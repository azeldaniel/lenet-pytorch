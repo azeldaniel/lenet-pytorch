{
 "metadata": {
  "language_info": {
   "codemirror_mode": {
    "name": "ipython",
    "version": 3
   },
   "file_extension": ".py",
   "mimetype": "text/x-python",
   "name": "python",
   "nbconvert_exporter": "python",
   "pygments_lexer": "ipython3",
   "version": "3.8.5-final"
  },
  "orig_nbformat": 2,
  "kernelspec": {
   "name": "python38564bitresearchconda6e46ab89dee4447294274d22b6e2b99b",
   "display_name": "Python 3.8.5 64-bit ('research': conda)"
  }
 },
 "nbformat": 4,
 "nbformat_minor": 2,
 "cells": [
  {
   "source": [
    "# LeNet-1 Test\n",
    "\n",
    "In this notebook, we train and test a LeNet-1 model with the MNIST dataset. The model was written with pytorch."
   ],
   "cell_type": "markdown",
   "metadata": {}
  },
  {
   "cell_type": "code",
   "execution_count": null,
   "metadata": {},
   "outputs": [],
   "source": [
    "device = torch.device(\"cuda:0\" if torch.cuda.is_available() else \"cpu\")\n",
    "print(device)"
   ]
  },
  {
   "cell_type": "code",
   "execution_count": 2,
   "metadata": {},
   "outputs": [],
   "source": [
    "import torch\n",
    "\n",
    "\n",
    "class LeNet1(torch.nn.Module):\n",
    "    \"\"\"\n",
    "    The LeNet-1 module.\n",
    "    \"\"\"\n",
    "\n",
    "    def __init__(self):\n",
    "\n",
    "        # Mandatory call to super class module.\n",
    "        super(LeNet1, self).__init__()\n",
    "\n",
    "        # Creating the feature layers.\n",
    "        self.features = torch.nn.Sequential(\n",
    "\n",
    "            # Layer 1 - Conv2d(4, 5x5) - Nx1x28x28 -> Nx4x24x24\n",
    "            torch.nn.Conv2d(in_channels=1, out_channels=4, kernel_size=5),\n",
    "            torch.nn.Tanh(),\n",
    "\n",
    "            # Layer 2 - AvgPool2d(2x2) - Nx4x24x24 -> Nx4x12x12\n",
    "            torch.nn.AvgPool2d(kernel_size=2, stride=2),\n",
    "\n",
    "            # Layer 3 - Conv2d(12, 5x5) - Nx4x12x12 -> Nx12x8x8\n",
    "            torch.nn.Conv2d(in_channels=4, out_channels=12, kernel_size=5),\n",
    "            torch.nn.Tanh(),\n",
    "\n",
    "            # Layer 4 - AvgPool2d(2x2) - Nx12x8x8 -> Nx12x4x4\n",
    "            torch.nn.AvgPool2d(kernel_size=2, stride=2),\n",
    "            torch.nn.Tanh(),\n",
    "        )\n",
    "\n",
    "        # Creating the classification layers.\n",
    "        self.classifier = torch.nn.Sequential(\n",
    "\n",
    "            # Layer 5 - FullyConnected(10) - Nx12x4x4 -> Nx1x10\n",
    "            torch.nn.Linear(in_features=12*4*4, out_features=10),\n",
    "            torch.nn.Softmax()\n",
    "        )\n",
    "\n",
    "    def forward(self, x):\n",
    "\n",
    "        # Forward pass through layers 1-4\n",
    "        x = self.features(x)\n",
    "        x = torch.flatten(x, 1)\n",
    "\n",
    "        # Forward pass through layer 5\n",
    "        x = self.classifier(x)\n",
    "        \n",
    "        return x"
   ]
  },
  {
   "cell_type": "code",
   "execution_count": 3,
   "metadata": {},
   "outputs": [],
   "source": [
    "import torchvision\n",
    "\n",
    "transform = torchvision.transforms.Compose(\n",
    "    [torchvision.transforms.ToTensor(), torchvision.transforms.Normalize((0,), (1,))]\n",
    ")\n",
    "\n",
    "trainset = torchvision.datasets.MNIST(root='./data', train=True,\n",
    "                                        download=True, transform=transform)\n",
    "trainloader = torch.utils.data.DataLoader(trainset, batch_size=4,\n",
    "                                          shuffle=True, num_workers=2)\n",
    "\n",
    "testset = torchvision.datasets.MNIST(root='./data', train=False,\n",
    "                                       download=True, transform=transform)\n",
    "testloader = torch.utils.data.DataLoader(testset, batch_size=4,\n",
    "                                         shuffle=False, num_workers=2)\n",
    "\n",
    "classes = [x for x in range(10)]"
   ]
  },
  {
   "cell_type": "code",
   "execution_count": 5,
   "metadata": {
    "tags": []
   },
   "outputs": [
    {
     "output_type": "display_data",
     "data": {
      "text/plain": "<Figure size 432x288 with 1 Axes>",
      "image/svg+xml": "<?xml version=\"1.0\" encoding=\"utf-8\" standalone=\"no\"?>\n<!DOCTYPE svg PUBLIC \"-//W3C//DTD SVG 1.1//EN\"\n  \"http://www.w3.org/Graphics/SVG/1.1/DTD/svg11.dtd\">\n<!-- Created with matplotlib (https://matplotlib.org/) -->\n<svg height=\"121.321606pt\" version=\"1.1\" viewBox=\"0 0 374.352357 121.321606\" width=\"374.352357pt\" xmlns=\"http://www.w3.org/2000/svg\" xmlns:xlink=\"http://www.w3.org/1999/xlink\">\n <metadata>\n  <rdf:RDF xmlns:cc=\"http://creativecommons.org/ns#\" xmlns:dc=\"http://purl.org/dc/elements/1.1/\" xmlns:rdf=\"http://www.w3.org/1999/02/22-rdf-syntax-ns#\">\n   <cc:Work>\n    <dc:type rdf:resource=\"http://purl.org/dc/dcmitype/StillImage\"/>\n    <dc:date>2020-09-26T20:27:33.871566</dc:date>\n    <dc:format>image/svg+xml</dc:format>\n    <dc:creator>\n     <cc:Agent>\n      <dc:title>Matplotlib v3.3.1, https://matplotlib.org/</dc:title>\n     </cc:Agent>\n    </dc:creator>\n   </cc:Work>\n  </rdf:RDF>\n </metadata>\n <defs>\n  <style type=\"text/css\">*{stroke-linecap:butt;stroke-linejoin:round;}</style>\n </defs>\n <g id=\"figure_1\">\n  <g id=\"patch_1\">\n   <path d=\"M -0 121.321606 \nL 374.352357 121.321606 \nL 374.352357 0 \nL -0 0 \nz\n\" style=\"fill:none;\"/>\n  </g>\n  <g id=\"axes_1\">\n   <g id=\"patch_2\">\n    <path d=\"M 26.925 97.443481 \nL 361.725 97.443481 \nL 361.725 9.627088 \nL 26.925 9.627088 \nz\n\" style=\"fill:#ffffff;\"/>\n   </g>\n   <g clip-path=\"url(#pd0eb94177a)\">\n    <image height=\"88\" id=\"image82e4a2beba\" transform=\"scale(1 -1)translate(0 -88)\" width=\"335\" x=\"26.925\" xlink:href=\"data:image/png;base64,\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\" y=\"-9.443481\"/>\n   </g>\n   <g id=\"matplotlib.axis_1\">\n    <g id=\"xtick_1\">\n     <g id=\"line2d_1\">\n      <defs>\n       <path d=\"M 0 0 \nL 0 3.5 \n\" id=\"ma8e2c3f0b8\" style=\"stroke:#000000;stroke-width:0.8;\"/>\n      </defs>\n      <g>\n       <use style=\"stroke:#000000;stroke-width:0.8;\" x=\"28.297131\" xlink:href=\"#ma8e2c3f0b8\" y=\"97.443481\"/>\n      </g>\n     </g>\n     <g id=\"text_1\">\n      <!-- 0 -->\n      <g transform=\"translate(25.115881 112.041919)scale(0.1 -0.1)\">\n       <defs>\n        <path d=\"M 31.78125 66.40625 \nQ 24.171875 66.40625 20.328125 58.90625 \nQ 16.5 51.421875 16.5 36.375 \nQ 16.5 21.390625 20.328125 13.890625 \nQ 24.171875 6.390625 31.78125 6.390625 \nQ 39.453125 6.390625 43.28125 13.890625 \nQ 47.125 21.390625 47.125 36.375 \nQ 47.125 51.421875 43.28125 58.90625 \nQ 39.453125 66.40625 31.78125 66.40625 \nz\nM 31.78125 74.21875 \nQ 44.046875 74.21875 50.515625 64.515625 \nQ 56.984375 54.828125 56.984375 36.375 \nQ 56.984375 17.96875 50.515625 8.265625 \nQ 44.046875 -1.421875 31.78125 -1.421875 \nQ 19.53125 -1.421875 13.0625 8.265625 \nQ 6.59375 17.96875 6.59375 36.375 \nQ 6.59375 54.828125 13.0625 64.515625 \nQ 19.53125 74.21875 31.78125 74.21875 \nz\n\" id=\"DejaVuSans-48\"/>\n       </defs>\n       <use xlink:href=\"#DejaVuSans-48\"/>\n      </g>\n     </g>\n    </g>\n    <g id=\"xtick_2\">\n     <g id=\"line2d_2\">\n      <g>\n       <use style=\"stroke:#000000;stroke-width:0.8;\" x=\"83.182377\" xlink:href=\"#ma8e2c3f0b8\" y=\"97.443481\"/>\n      </g>\n     </g>\n     <g id=\"text_2\">\n      <!-- 20 -->\n      <g transform=\"translate(76.819877 112.041919)scale(0.1 -0.1)\">\n       <defs>\n        <path d=\"M 19.1875 8.296875 \nL 53.609375 8.296875 \nL 53.609375 0 \nL 7.328125 0 \nL 7.328125 8.296875 \nQ 12.9375 14.109375 22.625 23.890625 \nQ 32.328125 33.6875 34.8125 36.53125 \nQ 39.546875 41.84375 41.421875 45.53125 \nQ 43.3125 49.21875 43.3125 52.78125 \nQ 43.3125 58.59375 39.234375 62.25 \nQ 35.15625 65.921875 28.609375 65.921875 \nQ 23.96875 65.921875 18.8125 64.3125 \nQ 13.671875 62.703125 7.8125 59.421875 \nL 7.8125 69.390625 \nQ 13.765625 71.78125 18.9375 73 \nQ 24.125 74.21875 28.421875 74.21875 \nQ 39.75 74.21875 46.484375 68.546875 \nQ 53.21875 62.890625 53.21875 53.421875 \nQ 53.21875 48.921875 51.53125 44.890625 \nQ 49.859375 40.875 45.40625 35.40625 \nQ 44.1875 33.984375 37.640625 27.21875 \nQ 31.109375 20.453125 19.1875 8.296875 \nz\n\" id=\"DejaVuSans-50\"/>\n       </defs>\n       <use xlink:href=\"#DejaVuSans-50\"/>\n       <use x=\"63.623047\" xlink:href=\"#DejaVuSans-48\"/>\n      </g>\n     </g>\n    </g>\n    <g id=\"xtick_3\">\n     <g id=\"line2d_3\">\n      <g>\n       <use style=\"stroke:#000000;stroke-width:0.8;\" x=\"138.067623\" xlink:href=\"#ma8e2c3f0b8\" y=\"97.443481\"/>\n      </g>\n     </g>\n     <g id=\"text_3\">\n      <!-- 40 -->\n      <g transform=\"translate(131.705123 112.041919)scale(0.1 -0.1)\">\n       <defs>\n        <path d=\"M 37.796875 64.3125 \nL 12.890625 25.390625 \nL 37.796875 25.390625 \nz\nM 35.203125 72.90625 \nL 47.609375 72.90625 \nL 47.609375 25.390625 \nL 58.015625 25.390625 \nL 58.015625 17.1875 \nL 47.609375 17.1875 \nL 47.609375 0 \nL 37.796875 0 \nL 37.796875 17.1875 \nL 4.890625 17.1875 \nL 4.890625 26.703125 \nz\n\" id=\"DejaVuSans-52\"/>\n       </defs>\n       <use xlink:href=\"#DejaVuSans-52\"/>\n       <use x=\"63.623047\" xlink:href=\"#DejaVuSans-48\"/>\n      </g>\n     </g>\n    </g>\n    <g id=\"xtick_4\">\n     <g id=\"line2d_4\">\n      <g>\n       <use style=\"stroke:#000000;stroke-width:0.8;\" x=\"192.952869\" xlink:href=\"#ma8e2c3f0b8\" y=\"97.443481\"/>\n      </g>\n     </g>\n     <g id=\"text_4\">\n      <!-- 60 -->\n      <g transform=\"translate(186.590369 112.041919)scale(0.1 -0.1)\">\n       <defs>\n        <path d=\"M 33.015625 40.375 \nQ 26.375 40.375 22.484375 35.828125 \nQ 18.609375 31.296875 18.609375 23.390625 \nQ 18.609375 15.53125 22.484375 10.953125 \nQ 26.375 6.390625 33.015625 6.390625 \nQ 39.65625 6.390625 43.53125 10.953125 \nQ 47.40625 15.53125 47.40625 23.390625 \nQ 47.40625 31.296875 43.53125 35.828125 \nQ 39.65625 40.375 33.015625 40.375 \nz\nM 52.59375 71.296875 \nL 52.59375 62.3125 \nQ 48.875 64.0625 45.09375 64.984375 \nQ 41.3125 65.921875 37.59375 65.921875 \nQ 27.828125 65.921875 22.671875 59.328125 \nQ 17.53125 52.734375 16.796875 39.40625 \nQ 19.671875 43.65625 24.015625 45.921875 \nQ 28.375 48.1875 33.59375 48.1875 \nQ 44.578125 48.1875 50.953125 41.515625 \nQ 57.328125 34.859375 57.328125 23.390625 \nQ 57.328125 12.15625 50.6875 5.359375 \nQ 44.046875 -1.421875 33.015625 -1.421875 \nQ 20.359375 -1.421875 13.671875 8.265625 \nQ 6.984375 17.96875 6.984375 36.375 \nQ 6.984375 53.65625 15.1875 63.9375 \nQ 23.390625 74.21875 37.203125 74.21875 \nQ 40.921875 74.21875 44.703125 73.484375 \nQ 48.484375 72.75 52.59375 71.296875 \nz\n\" id=\"DejaVuSans-54\"/>\n       </defs>\n       <use xlink:href=\"#DejaVuSans-54\"/>\n       <use x=\"63.623047\" xlink:href=\"#DejaVuSans-48\"/>\n      </g>\n     </g>\n    </g>\n    <g id=\"xtick_5\">\n     <g id=\"line2d_5\">\n      <g>\n       <use style=\"stroke:#000000;stroke-width:0.8;\" x=\"247.838115\" xlink:href=\"#ma8e2c3f0b8\" y=\"97.443481\"/>\n      </g>\n     </g>\n     <g id=\"text_5\">\n      <!-- 80 -->\n      <g transform=\"translate(241.475615 112.041919)scale(0.1 -0.1)\">\n       <defs>\n        <path d=\"M 31.78125 34.625 \nQ 24.75 34.625 20.71875 30.859375 \nQ 16.703125 27.09375 16.703125 20.515625 \nQ 16.703125 13.921875 20.71875 10.15625 \nQ 24.75 6.390625 31.78125 6.390625 \nQ 38.8125 6.390625 42.859375 10.171875 \nQ 46.921875 13.96875 46.921875 20.515625 \nQ 46.921875 27.09375 42.890625 30.859375 \nQ 38.875 34.625 31.78125 34.625 \nz\nM 21.921875 38.8125 \nQ 15.578125 40.375 12.03125 44.71875 \nQ 8.5 49.078125 8.5 55.328125 \nQ 8.5 64.0625 14.71875 69.140625 \nQ 20.953125 74.21875 31.78125 74.21875 \nQ 42.671875 74.21875 48.875 69.140625 \nQ 55.078125 64.0625 55.078125 55.328125 \nQ 55.078125 49.078125 51.53125 44.71875 \nQ 48 40.375 41.703125 38.8125 \nQ 48.828125 37.15625 52.796875 32.3125 \nQ 56.78125 27.484375 56.78125 20.515625 \nQ 56.78125 9.90625 50.3125 4.234375 \nQ 43.84375 -1.421875 31.78125 -1.421875 \nQ 19.734375 -1.421875 13.25 4.234375 \nQ 6.78125 9.90625 6.78125 20.515625 \nQ 6.78125 27.484375 10.78125 32.3125 \nQ 14.796875 37.15625 21.921875 38.8125 \nz\nM 18.3125 54.390625 \nQ 18.3125 48.734375 21.84375 45.5625 \nQ 25.390625 42.390625 31.78125 42.390625 \nQ 38.140625 42.390625 41.71875 45.5625 \nQ 45.3125 48.734375 45.3125 54.390625 \nQ 45.3125 60.0625 41.71875 63.234375 \nQ 38.140625 66.40625 31.78125 66.40625 \nQ 25.390625 66.40625 21.84375 63.234375 \nQ 18.3125 60.0625 18.3125 54.390625 \nz\n\" id=\"DejaVuSans-56\"/>\n       </defs>\n       <use xlink:href=\"#DejaVuSans-56\"/>\n       <use x=\"63.623047\" xlink:href=\"#DejaVuSans-48\"/>\n      </g>\n     </g>\n    </g>\n    <g id=\"xtick_6\">\n     <g id=\"line2d_6\">\n      <g>\n       <use style=\"stroke:#000000;stroke-width:0.8;\" x=\"302.723361\" xlink:href=\"#ma8e2c3f0b8\" y=\"97.443481\"/>\n      </g>\n     </g>\n     <g id=\"text_6\">\n      <!-- 100 -->\n      <g transform=\"translate(293.179611 112.041919)scale(0.1 -0.1)\">\n       <defs>\n        <path d=\"M 12.40625 8.296875 \nL 28.515625 8.296875 \nL 28.515625 63.921875 \nL 10.984375 60.40625 \nL 10.984375 69.390625 \nL 28.421875 72.90625 \nL 38.28125 72.90625 \nL 38.28125 8.296875 \nL 54.390625 8.296875 \nL 54.390625 0 \nL 12.40625 0 \nz\n\" id=\"DejaVuSans-49\"/>\n       </defs>\n       <use xlink:href=\"#DejaVuSans-49\"/>\n       <use x=\"63.623047\" xlink:href=\"#DejaVuSans-48\"/>\n       <use x=\"127.246094\" xlink:href=\"#DejaVuSans-48\"/>\n      </g>\n     </g>\n    </g>\n    <g id=\"xtick_7\">\n     <g id=\"line2d_7\">\n      <g>\n       <use style=\"stroke:#000000;stroke-width:0.8;\" x=\"357.608607\" xlink:href=\"#ma8e2c3f0b8\" y=\"97.443481\"/>\n      </g>\n     </g>\n     <g id=\"text_7\">\n      <!-- 120 -->\n      <g transform=\"translate(348.064857 112.041919)scale(0.1 -0.1)\">\n       <use xlink:href=\"#DejaVuSans-49\"/>\n       <use x=\"63.623047\" xlink:href=\"#DejaVuSans-50\"/>\n       <use x=\"127.246094\" xlink:href=\"#DejaVuSans-48\"/>\n      </g>\n     </g>\n    </g>\n   </g>\n   <g id=\"matplotlib.axis_2\">\n    <g id=\"ytick_1\">\n     <g id=\"line2d_8\">\n      <defs>\n       <path d=\"M 0 0 \nL -3.5 0 \n\" id=\"mb1a0eeac48\" style=\"stroke:#000000;stroke-width:0.8;\"/>\n      </defs>\n      <g>\n       <use style=\"stroke:#000000;stroke-width:0.8;\" x=\"26.925\" xlink:href=\"#mb1a0eeac48\" y=\"10.999219\"/>\n      </g>\n     </g>\n     <g id=\"text_8\">\n      <!-- 0 -->\n      <g transform=\"translate(13.5625 14.798437)scale(0.1 -0.1)\">\n       <use xlink:href=\"#DejaVuSans-48\"/>\n      </g>\n     </g>\n    </g>\n    <g id=\"ytick_2\">\n     <g id=\"line2d_9\">\n      <g>\n       <use style=\"stroke:#000000;stroke-width:0.8;\" x=\"26.925\" xlink:href=\"#mb1a0eeac48\" y=\"38.441842\"/>\n      </g>\n     </g>\n     <g id=\"text_9\">\n      <!-- 10 -->\n      <g transform=\"translate(7.2 42.24106)scale(0.1 -0.1)\">\n       <use xlink:href=\"#DejaVuSans-49\"/>\n       <use x=\"63.623047\" xlink:href=\"#DejaVuSans-48\"/>\n      </g>\n     </g>\n    </g>\n    <g id=\"ytick_3\">\n     <g id=\"line2d_10\">\n      <g>\n       <use style=\"stroke:#000000;stroke-width:0.8;\" x=\"26.925\" xlink:href=\"#mb1a0eeac48\" y=\"65.884465\"/>\n      </g>\n     </g>\n     <g id=\"text_10\">\n      <!-- 20 -->\n      <g transform=\"translate(7.2 69.683683)scale(0.1 -0.1)\">\n       <use xlink:href=\"#DejaVuSans-50\"/>\n       <use x=\"63.623047\" xlink:href=\"#DejaVuSans-48\"/>\n      </g>\n     </g>\n    </g>\n    <g id=\"ytick_4\">\n     <g id=\"line2d_11\">\n      <g>\n       <use style=\"stroke:#000000;stroke-width:0.8;\" x=\"26.925\" xlink:href=\"#mb1a0eeac48\" y=\"93.327088\"/>\n      </g>\n     </g>\n     <g id=\"text_11\">\n      <!-- 30 -->\n      <g transform=\"translate(7.2 97.126306)scale(0.1 -0.1)\">\n       <defs>\n        <path d=\"M 40.578125 39.3125 \nQ 47.65625 37.796875 51.625 33 \nQ 55.609375 28.21875 55.609375 21.1875 \nQ 55.609375 10.40625 48.1875 4.484375 \nQ 40.765625 -1.421875 27.09375 -1.421875 \nQ 22.515625 -1.421875 17.65625 -0.515625 \nQ 12.796875 0.390625 7.625 2.203125 \nL 7.625 11.71875 \nQ 11.71875 9.328125 16.59375 8.109375 \nQ 21.484375 6.890625 26.8125 6.890625 \nQ 36.078125 6.890625 40.9375 10.546875 \nQ 45.796875 14.203125 45.796875 21.1875 \nQ 45.796875 27.640625 41.28125 31.265625 \nQ 36.765625 34.90625 28.71875 34.90625 \nL 20.21875 34.90625 \nL 20.21875 43.015625 \nL 29.109375 43.015625 \nQ 36.375 43.015625 40.234375 45.921875 \nQ 44.09375 48.828125 44.09375 54.296875 \nQ 44.09375 59.90625 40.109375 62.90625 \nQ 36.140625 65.921875 28.71875 65.921875 \nQ 24.65625 65.921875 20.015625 65.03125 \nQ 15.375 64.15625 9.8125 62.3125 \nL 9.8125 71.09375 \nQ 15.4375 72.65625 20.34375 73.4375 \nQ 25.25 74.21875 29.59375 74.21875 \nQ 40.828125 74.21875 47.359375 69.109375 \nQ 53.90625 64.015625 53.90625 55.328125 \nQ 53.90625 49.265625 50.4375 45.09375 \nQ 46.96875 40.921875 40.578125 39.3125 \nz\n\" id=\"DejaVuSans-51\"/>\n       </defs>\n       <use xlink:href=\"#DejaVuSans-51\"/>\n       <use x=\"63.623047\" xlink:href=\"#DejaVuSans-48\"/>\n      </g>\n     </g>\n    </g>\n   </g>\n   <g id=\"patch_3\">\n    <path d=\"M 26.925 97.443481 \nL 26.925 9.627088 \n\" style=\"fill:none;stroke:#000000;stroke-linecap:square;stroke-linejoin:miter;stroke-width:0.8;\"/>\n   </g>\n   <g id=\"patch_4\">\n    <path d=\"M 361.725 97.443481 \nL 361.725 9.627088 \n\" style=\"fill:none;stroke:#000000;stroke-linecap:square;stroke-linejoin:miter;stroke-width:0.8;\"/>\n   </g>\n   <g id=\"patch_5\">\n    <path d=\"M 26.925 97.443481 \nL 361.725 97.443481 \n\" style=\"fill:none;stroke:#000000;stroke-linecap:square;stroke-linejoin:miter;stroke-width:0.8;\"/>\n   </g>\n   <g id=\"patch_6\">\n    <path d=\"M 26.925 9.627088 \nL 361.725 9.627088 \n\" style=\"fill:none;stroke:#000000;stroke-linecap:square;stroke-linejoin:miter;stroke-width:0.8;\"/>\n   </g>\n  </g>\n </g>\n <defs>\n  <clipPath id=\"pd0eb94177a\">\n   <rect height=\"87.816393\" width=\"334.8\" x=\"26.925\" y=\"9.627088\"/>\n  </clipPath>\n </defs>\n</svg>\n",
      "image/png": "[encoded data removed]"
     },
     "metadata": {
      "needs_background": "light"
     }
    },
    {
     "output_type": "stream",
     "name": "stdout",
     "text": "    3     1     1     8\n"
    }
   ],
   "source": [
    "import matplotlib.pyplot as plt\n",
    "import numpy as np\n",
    "\n",
    "# functions to show an image\n",
    "def imshow(img):\n",
    "    npimg = img.numpy()\n",
    "    plt.imshow(np.transpose(npimg, (1, 2, 0)))\n",
    "    plt.show()\n",
    "\n",
    "\n",
    "# get some random training images\n",
    "dataiter = iter(trainloader)\n",
    "images, labels = dataiter.next()\n",
    "\n",
    "# show images\n",
    "imshow(torchvision.utils.make_grid(images))\n",
    "# print labels\n",
    "print(' '.join('%5s' % classes[labels[j]] for j in range(4)))"
   ]
  },
  {
   "cell_type": "code",
   "execution_count": 6,
   "metadata": {},
   "outputs": [],
   "source": [
    "model = LeNet1().to(device)\n",
    "\n",
    "criterion = torch.nn.CrossEntropyLoss()\n",
    "optimizer = torch.optim.SGD(model.parameters(), lr=0.001, momentum=0.9)"
   ]
  },
  {
   "cell_type": "code",
   "execution_count": 8,
   "metadata": {
    "tags": []
   },
   "outputs": [
    {
     "output_type": "stream",
     "name": "stdout",
     "text": "[1,  2000] loss: 1.471\n[1,  4000] loss: 1.107\n[1,  6000] loss: 1.055\n"
    },
    {
     "output_type": "error",
     "ename": "KeyboardInterrupt",
     "evalue": "",
     "traceback": [
      "\u001b[0;31m---------------------------------------------------------------------------\u001b[0m",
      "\u001b[0;31mKeyboardInterrupt\u001b[0m                         Traceback (most recent call last)",
      "\u001b[0;32m<ipython-input-8-175c865105cb>\u001b[0m in \u001b[0;36m<module>\u001b[0;34m\u001b[0m\n\u001b[1;32m     12\u001b[0m         \u001b[0moutputs\u001b[0m \u001b[0;34m=\u001b[0m \u001b[0mmodel\u001b[0m\u001b[0;34m(\u001b[0m\u001b[0minputs\u001b[0m\u001b[0;34m)\u001b[0m\u001b[0;34m\u001b[0m\u001b[0;34m\u001b[0m\u001b[0m\n\u001b[1;32m     13\u001b[0m         \u001b[0mloss\u001b[0m \u001b[0;34m=\u001b[0m \u001b[0mcriterion\u001b[0m\u001b[0;34m(\u001b[0m\u001b[0moutputs\u001b[0m\u001b[0;34m,\u001b[0m \u001b[0mlabels\u001b[0m\u001b[0;34m)\u001b[0m\u001b[0;34m\u001b[0m\u001b[0;34m\u001b[0m\u001b[0m\n\u001b[0;32m---> 14\u001b[0;31m         \u001b[0mloss\u001b[0m\u001b[0;34m.\u001b[0m\u001b[0mbackward\u001b[0m\u001b[0;34m(\u001b[0m\u001b[0;34m)\u001b[0m\u001b[0;34m\u001b[0m\u001b[0;34m\u001b[0m\u001b[0m\n\u001b[0m\u001b[1;32m     15\u001b[0m         \u001b[0moptimizer\u001b[0m\u001b[0;34m.\u001b[0m\u001b[0mstep\u001b[0m\u001b[0;34m(\u001b[0m\u001b[0;34m)\u001b[0m\u001b[0;34m\u001b[0m\u001b[0;34m\u001b[0m\u001b[0m\n\u001b[1;32m     16\u001b[0m \u001b[0;34m\u001b[0m\u001b[0m\n",
      "\u001b[0;32m~/.conda/envs/research/lib/python3.8/site-packages/torch/tensor.py\u001b[0m in \u001b[0;36mbackward\u001b[0;34m(self, gradient, retain_graph, create_graph)\u001b[0m\n\u001b[1;32m    183\u001b[0m                 \u001b[0mproducts\u001b[0m\u001b[0;34m.\u001b[0m \u001b[0mDefaults\u001b[0m \u001b[0mto\u001b[0m\u001b[0;31m \u001b[0m\u001b[0;31m`\u001b[0m\u001b[0;31m`\u001b[0m\u001b[0;32mFalse\u001b[0m\u001b[0;31m`\u001b[0m\u001b[0;31m`\u001b[0m\u001b[0;34m.\u001b[0m\u001b[0;34m\u001b[0m\u001b[0;34m\u001b[0m\u001b[0m\n\u001b[1;32m    184\u001b[0m         \"\"\"\n\u001b[0;32m--> 185\u001b[0;31m         \u001b[0mtorch\u001b[0m\u001b[0;34m.\u001b[0m\u001b[0mautograd\u001b[0m\u001b[0;34m.\u001b[0m\u001b[0mbackward\u001b[0m\u001b[0;34m(\u001b[0m\u001b[0mself\u001b[0m\u001b[0;34m,\u001b[0m \u001b[0mgradient\u001b[0m\u001b[0;34m,\u001b[0m \u001b[0mretain_graph\u001b[0m\u001b[0;34m,\u001b[0m \u001b[0mcreate_graph\u001b[0m\u001b[0;34m)\u001b[0m\u001b[0;34m\u001b[0m\u001b[0;34m\u001b[0m\u001b[0m\n\u001b[0m\u001b[1;32m    186\u001b[0m \u001b[0;34m\u001b[0m\u001b[0m\n\u001b[1;32m    187\u001b[0m     \u001b[0;32mdef\u001b[0m \u001b[0mregister_hook\u001b[0m\u001b[0;34m(\u001b[0m\u001b[0mself\u001b[0m\u001b[0;34m,\u001b[0m \u001b[0mhook\u001b[0m\u001b[0;34m)\u001b[0m\u001b[0;34m:\u001b[0m\u001b[0;34m\u001b[0m\u001b[0;34m\u001b[0m\u001b[0m\n",
      "\u001b[0;32m~/.conda/envs/research/lib/python3.8/site-packages/torch/autograd/__init__.py\u001b[0m in \u001b[0;36mbackward\u001b[0;34m(tensors, grad_tensors, retain_graph, create_graph, grad_variables)\u001b[0m\n\u001b[1;32m    123\u001b[0m         \u001b[0mretain_graph\u001b[0m \u001b[0;34m=\u001b[0m \u001b[0mcreate_graph\u001b[0m\u001b[0;34m\u001b[0m\u001b[0;34m\u001b[0m\u001b[0m\n\u001b[1;32m    124\u001b[0m \u001b[0;34m\u001b[0m\u001b[0m\n\u001b[0;32m--> 125\u001b[0;31m     Variable._execution_engine.run_backward(\n\u001b[0m\u001b[1;32m    126\u001b[0m         \u001b[0mtensors\u001b[0m\u001b[0;34m,\u001b[0m \u001b[0mgrad_tensors\u001b[0m\u001b[0;34m,\u001b[0m \u001b[0mretain_graph\u001b[0m\u001b[0;34m,\u001b[0m \u001b[0mcreate_graph\u001b[0m\u001b[0;34m,\u001b[0m\u001b[0;34m\u001b[0m\u001b[0;34m\u001b[0m\u001b[0m\n\u001b[1;32m    127\u001b[0m         allow_unreachable=True)  # allow_unreachable flag\n",
      "\u001b[0;31mKeyboardInterrupt\u001b[0m: "
     ]
    }
   ],
   "source": [
    "for epoch in range(2):  # loop over the dataset multiple times\n",
    "\n",
    "    running_loss = 0.0\n",
    "    for i, data in enumerate(trainloader, 0):\n",
    "        # get the inputs; data is a list of [inputs, labels]\n",
    "        inputs, labels = data[0].to(device), data[1].to(device)\n",
    "\n",
    "        # zero the parameter gradients\n",
    "        optimizer.zero_grad()\n",
    "\n",
    "        # forward + backward + optimize\n",
    "        outputs = model(inputs)\n",
    "        loss = criterion(outputs, labels)\n",
    "        loss.backward()\n",
    "        optimizer.step()\n",
    "\n",
    "        # print statistics\n",
    "        running_loss += loss.item()\n",
    "        if i % 2000 == 1999:    # print every 2000 mini-batches\n",
    "            print('[%d, %5d] loss: %.3f' %\n",
    "                  (epoch + 1, i + 1, running_loss / 2000))\n",
    "            running_loss = 0.0\n",
    "\n",
    "print('Finished Training')"
   ]
  },
  {
   "cell_type": "code",
   "execution_count": null,
   "metadata": {},
   "outputs": [],
   "source": [
    "dataiter = iter(testloader)\n",
    "images, labels = dataiter.next()\n",
    "\n",
    "# print images\n",
    "imshow(torchvision.utils.make_grid(images))\n",
    "print('GroundTruth: ', ' '.join('%5s' % classes[labels[j]] for j in range(4)))\n",
    "\n",
    "outputs = model(images)\n",
    "_, predicted = torch.max(outputs, 1)\n",
    "\n",
    "print('Predicted: ', ' '.join('%5s' % classes[predicted[j]]\n",
    "                              for j in range(4)))"
   ]
  },
  {
   "cell_type": "code",
   "execution_count": null,
   "metadata": {},
   "outputs": [],
   "source": [
    "correct = 0\n",
    "total = 0\n",
    "with torch.no_grad():\n",
    "    for data in testloader:\n",
    "        images, labels = data\n",
    "        outputs = net(images)\n",
    "        _, predicted = torch.max(outputs.data, 1)\n",
    "        total += labels.size(0)\n",
    "        correct += (predicted == labels).sum().item()\n",
    "\n",
    "print('Accuracy of the network on the 10000 test images: %d %%' % (\n",
    "    100 * correct / total))"
   ]
  },
  {
   "cell_type": "code",
   "execution_count": null,
   "metadata": {},
   "outputs": [],
   "source": [
    "class_correct = list(0. for i in range(10))\n",
    "class_total = list(0. for i in range(10))\n",
    "with torch.no_grad():\n",
    "    for data in testloader:\n",
    "        images, labels = data\n",
    "        outputs = net(images)\n",
    "        _, predicted = torch.max(outputs, 1)\n",
    "        c = (predicted == labels).squeeze()\n",
    "        for i in range(4):\n",
    "            label = labels[i]\n",
    "            class_correct[label] += c[i].item()\n",
    "            class_total[label] += 1\n",
    "\n",
    "\n",
    "for i in range(10):\n",
    "    print('Accuracy of %5s : %2d %%' % (\n",
    "        classes[i], 100 * class_correct[i] / class_total[i]))"
   ]
  },
  {
   "cell_type": "code",
   "execution_count": 3,
   "metadata": {
    "tags": []
   },
   "outputs": [
    {
     "output_type": "stream",
     "name": "stdout",
     "text": "cpu\n"
    }
   ],
   "source": [
    "device = torch.device(\"cuda:0\" if torch.cuda.is_available() else \"cpu\")\n",
    "\n",
    "# Assuming that we are on a CUDA machine, this should print a CUDA device:\n",
    "\n",
    "print(device)"
   ]
  },
  {
   "cell_type": "code",
   "execution_count": null,
   "metadata": {},
   "outputs": [],
   "source": []
  }
 ]
}