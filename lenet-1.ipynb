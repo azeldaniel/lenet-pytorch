{
 "metadata": {
  "language_info": {
   "codemirror_mode": {
    "name": "ipython",
    "version": 3
   },
   "file_extension": ".py",
   "mimetype": "text/x-python",
   "name": "python",
   "nbconvert_exporter": "python",
   "pygments_lexer": "ipython3",
   "version": "3.8.5-final"
  },
  "orig_nbformat": 2,
  "kernelspec": {
   "name": "python38564bitresearchconda6e46ab89dee4447294274d22b6e2b99b",
   "display_name": "Python 3.8.5 64-bit ('research': conda)"
  }
 },
 "nbformat": 4,
 "nbformat_minor": 2,
 "cells": [
  {
   "source": [
    "# LeNet-1 PyTorch Implementation\n",
    "\n",
    "In this notebook, we implement Yann LeCun's LeNet-1 convolutional neural network with PyTorch. We will further train and test the developed model with the MNIST digit classification dataset. LeNet-1 was a small CNN, which merely included five layers. The network was developed to accommodate minute, single-channel images of size (28×28). It boasted a total of 3,246 trainable parameters and 139,402 connections. We import all the libraries below."
   ],
   "cell_type": "markdown",
   "metadata": {}
  },
  {
   "cell_type": "code",
   "execution_count": 32,
   "metadata": {},
   "outputs": [],
   "source": [
    "import torch\n",
    "import torchvision\n",
    "import tqdm\n",
    "\n",
    "import matplotlib.pyplot as plt\n",
    "import numpy as np"
   ]
  },
  {
   "source": [
    "## Model Implementation in PyTorch\n",
    "\n",
    "Recall that the LeNet-1 model contains only five layers, and they are:\n",
    "\n",
    "1. Layer C1: Convolution Layer (4, 5×5)\n",
    "2. Layer S2: Pooling Layer (2×2)\n",
    "3. Layer C3: Convolution Layer (12, 5×5)\n",
    "4. Layer S4: Pooling Layer (2×2)\n",
    "5. Layer F5: Fully Connected Layer (10)\n",
    "\n",
    "This can be implemented in PyTorch as shown below.\n"
   ],
   "cell_type": "markdown",
   "metadata": {}
  },
  {
   "cell_type": "code",
   "execution_count": 33,
   "metadata": {},
   "outputs": [],
   "source": [
    "class LeNet1(torch.nn.Module):\n",
    "    \"\"\"\n",
    "    The LeNet-1 module.\n",
    "    \"\"\"\n",
    "\n",
    "    def __init__(self):\n",
    "\n",
    "        # Mandatory call to super class module.\n",
    "        super(LeNet1, self).__init__()\n",
    "\n",
    "        # Defining the feature extraction layers.\n",
    "        self.feature_extractor = torch.nn.Sequential(\n",
    "\n",
    "            # Layer 1 - Conv2d(4, 5x5) - Nx1x28x28 -> Nx4x24x24\n",
    "            torch.nn.Conv2d(in_channels=1, out_channels=4, kernel_size=5),\n",
    "            torch.nn.Tanh(),\n",
    "\n",
    "            # Layer 2 - AvgPool2d(2x2) - Nx4x24x24 -> Nx4x12x12\n",
    "            torch.nn.AvgPool2d(kernel_size=2, stride=2),\n",
    "\n",
    "            # Layer 3 - Conv2d(12, 5x5) - Nx4x12x12 -> Nx12x8x8\n",
    "            torch.nn.Conv2d(in_channels=4, out_channels=12, kernel_size=5),\n",
    "            torch.nn.Tanh(),\n",
    "\n",
    "            # Layer 4 - AvgPool2d(2x2) - Nx12x8x8 -> Nx12x4x4\n",
    "            torch.nn.AvgPool2d(kernel_size=2, stride=2),\n",
    "        )\n",
    "\n",
    "        # Defining the classification layers.\n",
    "        self.classifier = torch.nn.Sequential(\n",
    "\n",
    "            # Layer 5 - FullyConnected(10) - Nx1x192 -> Nx1x10\n",
    "            torch.nn.Linear(in_features=12*4*4, out_features=10),\n",
    "            torch.nn.Softmax()\n",
    "        )\n",
    "\n",
    "    def forward(self, x):\n",
    "\n",
    "        # Forward pass through the feature extractor - Nx1x28x28 -> Nx12x4x4\n",
    "        x = self.feature_extractor(x)\n",
    "\n",
    "        # Flattening the feature map - Nx12x4x4 -> Nx1x192\n",
    "        x = torch.flatten(x, 1)\n",
    "\n",
    "        # Forward pass through the classifier - Nx1x192 -> Nx1x10\n",
    "        return self.classifier(x)\n"
   ]
  },
  {
   "source": [
    "## Loading the MNIST dataset\n",
    "\n",
    "Next we load the MNIST digit classification dataset. Luckily, PyTorch has a nifty solution that allows up to easily download the dataset and use it. This solution is shown below.\n"
   ],
   "cell_type": "markdown",
   "metadata": {}
  },
  {
   "cell_type": "code",
   "execution_count": 34,
   "metadata": {},
   "outputs": [],
   "source": [
    "# Defining a transform for the images.\n",
    "transform = torchvision.transforms.Compose(\n",
    "    [torchvision.transforms.ToTensor(), torchvision.transforms.Normalize((0,), (1,))]\n",
    ")\n",
    "\n",
    "# Loading the training and validation data.\n",
    "train_set = torchvision.datasets.MNIST(root='./data', train=True, download=True, transform=transform)\n",
    "train_loader = torch.utils.data.DataLoader(train_set, batch_size=4, shuffle=True, num_workers=2)\n",
    "#val_loader = torch.utils.data.DataLoader(train_set, batch_size=4, shuffle=True, num_workers=2)\n",
    "\n",
    "# Loading the testing data.\n",
    "test_set = torchvision.datasets.MNIST(root='./data', train=False, download=True, transform=transform)\n",
    "test_loader = torch.utils.data.DataLoader(test_set, batch_size=4, shuffle=False, num_workers=2)\n",
    "val_loader = torch.utils.data.DataLoader(test_set, batch_size=4, shuffle=False, num_workers=2)\n",
    "\n",
    "# Defining the classes [0, ..., 9].\n",
    "classes = [x for x in range(10)]"
   ]
  },
  {
   "source": [
    "### Showing Sample Images\n",
    "\n",
    "To confirm that the data was loaded correctly, we design a function below to show some sample images from the dataset."
   ],
   "cell_type": "markdown",
   "metadata": {}
  },
  {
   "cell_type": "code",
   "execution_count": 35,
   "metadata": {
    "tags": []
   },
   "outputs": [
    {
     "output_type": "display_data",
     "data": {
      "text/plain": "<Figure size 432x288 with 1 Axes>",
      "image/svg+xml": "<?xml version=\"1.0\" encoding=\"utf-8\" standalone=\"no\"?>\n<!DOCTYPE svg PUBLIC \"-//W3C//DTD SVG 1.1//EN\"\n  \"http://www.w3.org/Graphics/SVG/1.1/DTD/svg11.dtd\">\n<!-- Created with matplotlib (https://matplotlib.org/) -->\n<svg height=\"121.321606pt\" version=\"1.1\" viewBox=\"0 0 374.352357 121.321606\" width=\"374.352357pt\" xmlns=\"http://www.w3.org/2000/svg\" xmlns:xlink=\"http://www.w3.org/1999/xlink\">\n <metadata>\n  <rdf:RDF xmlns:cc=\"http://creativecommons.org/ns#\" xmlns:dc=\"http://purl.org/dc/elements/1.1/\" xmlns:rdf=\"http://www.w3.org/1999/02/22-rdf-syntax-ns#\">\n   <cc:Work>\n    <dc:type rdf:resource=\"http://purl.org/dc/dcmitype/StillImage\"/>\n    <dc:date>2020-09-27T02:00:51.977275</dc:date>\n    <dc:format>image/svg+xml</dc:format>\n    <dc:creator>\n     <cc:Agent>\n      <dc:title>Matplotlib v3.3.1, https://matplotlib.org/</dc:title>\n     </cc:Agent>\n    </dc:creator>\n   </cc:Work>\n  </rdf:RDF>\n </metadata>\n <defs>\n  <style type=\"text/css\">*{stroke-linecap:butt;stroke-linejoin:round;}</style>\n </defs>\n <g id=\"figure_1\">\n  <g id=\"patch_1\">\n   <path d=\"M -0 121.321606 \nL 374.352357 121.321606 \nL 374.352357 0 \nL -0 0 \nz\n\" style=\"fill:none;\"/>\n  </g>\n  <g id=\"axes_1\">\n   <g id=\"patch_2\">\n    <path d=\"M 26.925 97.443481 \nL 361.725 97.443481 \nL 361.725 9.627088 \nL 26.925 9.627088 \nz\n\" style=\"fill:#ffffff;\"/>\n   </g>\n   <g clip-path=\"url(#pb554b3075c)\">\n    <image height=\"88\" id=\"imagecab1c18e0e\" transform=\"scale(1 -1)translate(0 -88)\" width=\"335\" x=\"26.925\" xlink:href=\"data:image/png;base64,\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\" y=\"-9.443481\"/>\n   </g>\n   <g id=\"matplotlib.axis_1\">\n    <g id=\"xtick_1\">\n     <g id=\"line2d_1\">\n      <defs>\n       <path d=\"M 0 0 \nL 0 3.5 \n\" id=\"me018697e45\" style=\"stroke:#000000;stroke-width:0.8;\"/>\n      </defs>\n      <g>\n       <use style=\"stroke:#000000;stroke-width:0.8;\" x=\"28.297131\" xlink:href=\"#me018697e45\" y=\"97.443481\"/>\n      </g>\n     </g>\n     <g id=\"text_1\">\n      <!-- 0 -->\n      <g transform=\"translate(25.115881 112.041919)scale(0.1 -0.1)\">\n       <defs>\n        <path d=\"M 31.78125 66.40625 \nQ 24.171875 66.40625 20.328125 58.90625 \nQ 16.5 51.421875 16.5 36.375 \nQ 16.5 21.390625 20.328125 13.890625 \nQ 24.171875 6.390625 31.78125 6.390625 \nQ 39.453125 6.390625 43.28125 13.890625 \nQ 47.125 21.390625 47.125 36.375 \nQ 47.125 51.421875 43.28125 58.90625 \nQ 39.453125 66.40625 31.78125 66.40625 \nz\nM 31.78125 74.21875 \nQ 44.046875 74.21875 50.515625 64.515625 \nQ 56.984375 54.828125 56.984375 36.375 \nQ 56.984375 17.96875 50.515625 8.265625 \nQ 44.046875 -1.421875 31.78125 -1.421875 \nQ 19.53125 -1.421875 13.0625 8.265625 \nQ 6.59375 17.96875 6.59375 36.375 \nQ 6.59375 54.828125 13.0625 64.515625 \nQ 19.53125 74.21875 31.78125 74.21875 \nz\n\" id=\"DejaVuSans-48\"/>\n       </defs>\n       <use xlink:href=\"#DejaVuSans-48\"/>\n      </g>\n     </g>\n    </g>\n    <g id=\"xtick_2\">\n     <g id=\"line2d_2\">\n      <g>\n       <use style=\"stroke:#000000;stroke-width:0.8;\" x=\"83.182377\" xlink:href=\"#me018697e45\" y=\"97.443481\"/>\n      </g>\n     </g>\n     <g id=\"text_2\">\n      <!-- 20 -->\n      <g transform=\"translate(76.819877 112.041919)scale(0.1 -0.1)\">\n       <defs>\n        <path d=\"M 19.1875 8.296875 \nL 53.609375 8.296875 \nL 53.609375 0 \nL 7.328125 0 \nL 7.328125 8.296875 \nQ 12.9375 14.109375 22.625 23.890625 \nQ 32.328125 33.6875 34.8125 36.53125 \nQ 39.546875 41.84375 41.421875 45.53125 \nQ 43.3125 49.21875 43.3125 52.78125 \nQ 43.3125 58.59375 39.234375 62.25 \nQ 35.15625 65.921875 28.609375 65.921875 \nQ 23.96875 65.921875 18.8125 64.3125 \nQ 13.671875 62.703125 7.8125 59.421875 \nL 7.8125 69.390625 \nQ 13.765625 71.78125 18.9375 73 \nQ 24.125 74.21875 28.421875 74.21875 \nQ 39.75 74.21875 46.484375 68.546875 \nQ 53.21875 62.890625 53.21875 53.421875 \nQ 53.21875 48.921875 51.53125 44.890625 \nQ 49.859375 40.875 45.40625 35.40625 \nQ 44.1875 33.984375 37.640625 27.21875 \nQ 31.109375 20.453125 19.1875 8.296875 \nz\n\" id=\"DejaVuSans-50\"/>\n       </defs>\n       <use xlink:href=\"#DejaVuSans-50\"/>\n       <use x=\"63.623047\" xlink:href=\"#DejaVuSans-48\"/>\n      </g>\n     </g>\n    </g>\n    <g id=\"xtick_3\">\n     <g id=\"line2d_3\">\n      <g>\n       <use style=\"stroke:#000000;stroke-width:0.8;\" x=\"138.067623\" xlink:href=\"#me018697e45\" y=\"97.443481\"/>\n      </g>\n     </g>\n     <g id=\"text_3\">\n      <!-- 40 -->\n      <g transform=\"translate(131.705123 112.041919)scale(0.1 -0.1)\">\n       <defs>\n        <path d=\"M 37.796875 64.3125 \nL 12.890625 25.390625 \nL 37.796875 25.390625 \nz\nM 35.203125 72.90625 \nL 47.609375 72.90625 \nL 47.609375 25.390625 \nL 58.015625 25.390625 \nL 58.015625 17.1875 \nL 47.609375 17.1875 \nL 47.609375 0 \nL 37.796875 0 \nL 37.796875 17.1875 \nL 4.890625 17.1875 \nL 4.890625 26.703125 \nz\n\" id=\"DejaVuSans-52\"/>\n       </defs>\n       <use xlink:href=\"#DejaVuSans-52\"/>\n       <use x=\"63.623047\" xlink:href=\"#DejaVuSans-48\"/>\n      </g>\n     </g>\n    </g>\n    <g id=\"xtick_4\">\n     <g id=\"line2d_4\">\n      <g>\n       <use style=\"stroke:#000000;stroke-width:0.8;\" x=\"192.952869\" xlink:href=\"#me018697e45\" y=\"97.443481\"/>\n      </g>\n     </g>\n     <g id=\"text_4\">\n      <!-- 60 -->\n      <g transform=\"translate(186.590369 112.041919)scale(0.1 -0.1)\">\n       <defs>\n        <path d=\"M 33.015625 40.375 \nQ 26.375 40.375 22.484375 35.828125 \nQ 18.609375 31.296875 18.609375 23.390625 \nQ 18.609375 15.53125 22.484375 10.953125 \nQ 26.375 6.390625 33.015625 6.390625 \nQ 39.65625 6.390625 43.53125 10.953125 \nQ 47.40625 15.53125 47.40625 23.390625 \nQ 47.40625 31.296875 43.53125 35.828125 \nQ 39.65625 40.375 33.015625 40.375 \nz\nM 52.59375 71.296875 \nL 52.59375 62.3125 \nQ 48.875 64.0625 45.09375 64.984375 \nQ 41.3125 65.921875 37.59375 65.921875 \nQ 27.828125 65.921875 22.671875 59.328125 \nQ 17.53125 52.734375 16.796875 39.40625 \nQ 19.671875 43.65625 24.015625 45.921875 \nQ 28.375 48.1875 33.59375 48.1875 \nQ 44.578125 48.1875 50.953125 41.515625 \nQ 57.328125 34.859375 57.328125 23.390625 \nQ 57.328125 12.15625 50.6875 5.359375 \nQ 44.046875 -1.421875 33.015625 -1.421875 \nQ 20.359375 -1.421875 13.671875 8.265625 \nQ 6.984375 17.96875 6.984375 36.375 \nQ 6.984375 53.65625 15.1875 63.9375 \nQ 23.390625 74.21875 37.203125 74.21875 \nQ 40.921875 74.21875 44.703125 73.484375 \nQ 48.484375 72.75 52.59375 71.296875 \nz\n\" id=\"DejaVuSans-54\"/>\n       </defs>\n       <use xlink:href=\"#DejaVuSans-54\"/>\n       <use x=\"63.623047\" xlink:href=\"#DejaVuSans-48\"/>\n      </g>\n     </g>\n    </g>\n    <g id=\"xtick_5\">\n     <g id=\"line2d_5\">\n      <g>\n       <use style=\"stroke:#000000;stroke-width:0.8;\" x=\"247.838115\" xlink:href=\"#me018697e45\" y=\"97.443481\"/>\n      </g>\n     </g>\n     <g id=\"text_5\">\n      <!-- 80 -->\n      <g transform=\"translate(241.475615 112.041919)scale(0.1 -0.1)\">\n       <defs>\n        <path d=\"M 31.78125 34.625 \nQ 24.75 34.625 20.71875 30.859375 \nQ 16.703125 27.09375 16.703125 20.515625 \nQ 16.703125 13.921875 20.71875 10.15625 \nQ 24.75 6.390625 31.78125 6.390625 \nQ 38.8125 6.390625 42.859375 10.171875 \nQ 46.921875 13.96875 46.921875 20.515625 \nQ 46.921875 27.09375 42.890625 30.859375 \nQ 38.875 34.625 31.78125 34.625 \nz\nM 21.921875 38.8125 \nQ 15.578125 40.375 12.03125 44.71875 \nQ 8.5 49.078125 8.5 55.328125 \nQ 8.5 64.0625 14.71875 69.140625 \nQ 20.953125 74.21875 31.78125 74.21875 \nQ 42.671875 74.21875 48.875 69.140625 \nQ 55.078125 64.0625 55.078125 55.328125 \nQ 55.078125 49.078125 51.53125 44.71875 \nQ 48 40.375 41.703125 38.8125 \nQ 48.828125 37.15625 52.796875 32.3125 \nQ 56.78125 27.484375 56.78125 20.515625 \nQ 56.78125 9.90625 50.3125 4.234375 \nQ 43.84375 -1.421875 31.78125 -1.421875 \nQ 19.734375 -1.421875 13.25 4.234375 \nQ 6.78125 9.90625 6.78125 20.515625 \nQ 6.78125 27.484375 10.78125 32.3125 \nQ 14.796875 37.15625 21.921875 38.8125 \nz\nM 18.3125 54.390625 \nQ 18.3125 48.734375 21.84375 45.5625 \nQ 25.390625 42.390625 31.78125 42.390625 \nQ 38.140625 42.390625 41.71875 45.5625 \nQ 45.3125 48.734375 45.3125 54.390625 \nQ 45.3125 60.0625 41.71875 63.234375 \nQ 38.140625 66.40625 31.78125 66.40625 \nQ 25.390625 66.40625 21.84375 63.234375 \nQ 18.3125 60.0625 18.3125 54.390625 \nz\n\" id=\"DejaVuSans-56\"/>\n       </defs>\n       <use xlink:href=\"#DejaVuSans-56\"/>\n       <use x=\"63.623047\" xlink:href=\"#DejaVuSans-48\"/>\n      </g>\n     </g>\n    </g>\n    <g id=\"xtick_6\">\n     <g id=\"line2d_6\">\n      <g>\n       <use style=\"stroke:#000000;stroke-width:0.8;\" x=\"302.723361\" xlink:href=\"#me018697e45\" y=\"97.443481\"/>\n      </g>\n     </g>\n     <g id=\"text_6\">\n      <!-- 100 -->\n      <g transform=\"translate(293.179611 112.041919)scale(0.1 -0.1)\">\n       <defs>\n        <path d=\"M 12.40625 8.296875 \nL 28.515625 8.296875 \nL 28.515625 63.921875 \nL 10.984375 60.40625 \nL 10.984375 69.390625 \nL 28.421875 72.90625 \nL 38.28125 72.90625 \nL 38.28125 8.296875 \nL 54.390625 8.296875 \nL 54.390625 0 \nL 12.40625 0 \nz\n\" id=\"DejaVuSans-49\"/>\n       </defs>\n       <use xlink:href=\"#DejaVuSans-49\"/>\n       <use x=\"63.623047\" xlink:href=\"#DejaVuSans-48\"/>\n       <use x=\"127.246094\" xlink:href=\"#DejaVuSans-48\"/>\n      </g>\n     </g>\n    </g>\n    <g id=\"xtick_7\">\n     <g id=\"line2d_7\">\n      <g>\n       <use style=\"stroke:#000000;stroke-width:0.8;\" x=\"357.608607\" xlink:href=\"#me018697e45\" y=\"97.443481\"/>\n      </g>\n     </g>\n     <g id=\"text_7\">\n      <!-- 120 -->\n      <g transform=\"translate(348.064857 112.041919)scale(0.1 -0.1)\">\n       <use xlink:href=\"#DejaVuSans-49\"/>\n       <use x=\"63.623047\" xlink:href=\"#DejaVuSans-50\"/>\n       <use x=\"127.246094\" xlink:href=\"#DejaVuSans-48\"/>\n      </g>\n     </g>\n    </g>\n   </g>\n   <g id=\"matplotlib.axis_2\">\n    <g id=\"ytick_1\">\n     <g id=\"line2d_8\">\n      <defs>\n       <path d=\"M 0 0 \nL -3.5 0 \n\" id=\"m498ab11a8d\" style=\"stroke:#000000;stroke-width:0.8;\"/>\n      </defs>\n      <g>\n       <use style=\"stroke:#000000;stroke-width:0.8;\" x=\"26.925\" xlink:href=\"#m498ab11a8d\" y=\"10.999219\"/>\n      </g>\n     </g>\n     <g id=\"text_8\">\n      <!-- 0 -->\n      <g transform=\"translate(13.5625 14.798437)scale(0.1 -0.1)\">\n       <use xlink:href=\"#DejaVuSans-48\"/>\n      </g>\n     </g>\n    </g>\n    <g id=\"ytick_2\">\n     <g id=\"line2d_9\">\n      <g>\n       <use style=\"stroke:#000000;stroke-width:0.8;\" x=\"26.925\" xlink:href=\"#m498ab11a8d\" y=\"38.441842\"/>\n      </g>\n     </g>\n     <g id=\"text_9\">\n      <!-- 10 -->\n      <g transform=\"translate(7.2 42.24106)scale(0.1 -0.1)\">\n       <use xlink:href=\"#DejaVuSans-49\"/>\n       <use x=\"63.623047\" xlink:href=\"#DejaVuSans-48\"/>\n      </g>\n     </g>\n    </g>\n    <g id=\"ytick_3\">\n     <g id=\"line2d_10\">\n      <g>\n       <use style=\"stroke:#000000;stroke-width:0.8;\" x=\"26.925\" xlink:href=\"#m498ab11a8d\" y=\"65.884465\"/>\n      </g>\n     </g>\n     <g id=\"text_10\">\n      <!-- 20 -->\n      <g transform=\"translate(7.2 69.683683)scale(0.1 -0.1)\">\n       <use xlink:href=\"#DejaVuSans-50\"/>\n       <use x=\"63.623047\" xlink:href=\"#DejaVuSans-48\"/>\n      </g>\n     </g>\n    </g>\n    <g id=\"ytick_4\">\n     <g id=\"line2d_11\">\n      <g>\n       <use style=\"stroke:#000000;stroke-width:0.8;\" x=\"26.925\" xlink:href=\"#m498ab11a8d\" y=\"93.327088\"/>\n      </g>\n     </g>\n     <g id=\"text_11\">\n      <!-- 30 -->\n      <g transform=\"translate(7.2 97.126306)scale(0.1 -0.1)\">\n       <defs>\n        <path d=\"M 40.578125 39.3125 \nQ 47.65625 37.796875 51.625 33 \nQ 55.609375 28.21875 55.609375 21.1875 \nQ 55.609375 10.40625 48.1875 4.484375 \nQ 40.765625 -1.421875 27.09375 -1.421875 \nQ 22.515625 -1.421875 17.65625 -0.515625 \nQ 12.796875 0.390625 7.625 2.203125 \nL 7.625 11.71875 \nQ 11.71875 9.328125 16.59375 8.109375 \nQ 21.484375 6.890625 26.8125 6.890625 \nQ 36.078125 6.890625 40.9375 10.546875 \nQ 45.796875 14.203125 45.796875 21.1875 \nQ 45.796875 27.640625 41.28125 31.265625 \nQ 36.765625 34.90625 28.71875 34.90625 \nL 20.21875 34.90625 \nL 20.21875 43.015625 \nL 29.109375 43.015625 \nQ 36.375 43.015625 40.234375 45.921875 \nQ 44.09375 48.828125 44.09375 54.296875 \nQ 44.09375 59.90625 40.109375 62.90625 \nQ 36.140625 65.921875 28.71875 65.921875 \nQ 24.65625 65.921875 20.015625 65.03125 \nQ 15.375 64.15625 9.8125 62.3125 \nL 9.8125 71.09375 \nQ 15.4375 72.65625 20.34375 73.4375 \nQ 25.25 74.21875 29.59375 74.21875 \nQ 40.828125 74.21875 47.359375 69.109375 \nQ 53.90625 64.015625 53.90625 55.328125 \nQ 53.90625 49.265625 50.4375 45.09375 \nQ 46.96875 40.921875 40.578125 39.3125 \nz\n\" id=\"DejaVuSans-51\"/>\n       </defs>\n       <use xlink:href=\"#DejaVuSans-51\"/>\n       <use x=\"63.623047\" xlink:href=\"#DejaVuSans-48\"/>\n      </g>\n     </g>\n    </g>\n   </g>\n   <g id=\"patch_3\">\n    <path d=\"M 26.925 97.443481 \nL 26.925 9.627088 \n\" style=\"fill:none;stroke:#000000;stroke-linecap:square;stroke-linejoin:miter;stroke-width:0.8;\"/>\n   </g>\n   <g id=\"patch_4\">\n    <path d=\"M 361.725 97.443481 \nL 361.725 9.627088 \n\" style=\"fill:none;stroke:#000000;stroke-linecap:square;stroke-linejoin:miter;stroke-width:0.8;\"/>\n   </g>\n   <g id=\"patch_5\">\n    <path d=\"M 26.925 97.443481 \nL 361.725 97.443481 \n\" style=\"fill:none;stroke:#000000;stroke-linecap:square;stroke-linejoin:miter;stroke-width:0.8;\"/>\n   </g>\n   <g id=\"patch_6\">\n    <path d=\"M 26.925 9.627088 \nL 361.725 9.627088 \n\" style=\"fill:none;stroke:#000000;stroke-linecap:square;stroke-linejoin:miter;stroke-width:0.8;\"/>\n   </g>\n  </g>\n </g>\n <defs>\n  <clipPath id=\"pb554b3075c\">\n   <rect height=\"87.816393\" width=\"334.8\" x=\"26.925\" y=\"9.627088\"/>\n  </clipPath>\n </defs>\n</svg>\n",
      "image/png": "[encoded data removed]"
     },
     "metadata": {
      "needs_background": "light"
     }
    },
    {
     "output_type": "stream",
     "name": "stdout",
     "text": "    6     3     9     6\n"
    }
   ],
   "source": [
    "def show_image(image):\n",
    "    npimg = image.numpy()\n",
    "    plt.imshow(np.transpose(npimg, (1, 2, 0)))\n",
    "    plt.show()\n",
    "\n",
    "def show_sample_images():\n",
    "\n",
    "    # get some random training images\n",
    "    dataiter = iter(train_loader)\n",
    "    images, labels = dataiter.next()\n",
    "\n",
    "    # Showing the image(s).\n",
    "    show_image(torchvision.utils.make_grid(images))\n",
    "\n",
    "    # Printing the labels.\n",
    "    print(' '.join('%5s' % classes[labels[j]] for j in range(4)))\n",
    "\n",
    "show_sample_images()"
   ]
  },
  {
   "source": [
    "## Using the model\n",
    "\n",
    "Before we proceed, we check to see your the machine has a GPU installed. If so, we use the GPU for training, else, we use the CPU."
   ],
   "cell_type": "markdown",
   "metadata": {}
  },
  {
   "cell_type": "code",
   "execution_count": 36,
   "metadata": {
    "tags": []
   },
   "outputs": [
    {
     "output_type": "stream",
     "name": "stdout",
     "text": "cpu\n"
    }
   ],
   "source": [
    "device = torch.device(\"cuda:0\" if torch.cuda.is_available() else \"cpu\")\n",
    "print(device)"
   ]
  },
  {
   "cell_type": "code",
   "execution_count": 37,
   "metadata": {
    "tags": []
   },
   "outputs": [],
   "source": [
    "model = LeNet1().to(device)\n",
    "criterion = torch.nn.CrossEntropyLoss()\n",
    "optimizer = torch.optim.SGD(model.parameters(), lr=0.001, momentum=0.9)"
   ]
  },
  {
   "source": [
    "## Training the model\n",
    "\n",
    "We devise a function below to train the model. We use regular Stochastic Gradient Descent and Mean Squared Error loss for training as defined by LeCun."
   ],
   "cell_type": "markdown",
   "metadata": {}
  },
  {
   "cell_type": "code",
   "execution_count": 38,
   "metadata": {
    "tags": []
   },
   "outputs": [
    {
     "output_type": "stream",
     "name": "stderr",
     "text": "  0%|          | 0/6 [00:01<?, ?it/s]tensor([[0.0982, 0.0951, 0.0879, 0.0908, 0.1142, 0.1077, 0.0765, 0.0963, 0.1208,\n         0.1124],\n        [0.1075, 0.0921, 0.0842, 0.0948, 0.1117, 0.1154, 0.0723, 0.0945, 0.1144,\n         0.1131],\n        [0.1008, 0.0916, 0.0843, 0.0852, 0.1120, 0.1093, 0.0776, 0.0939, 0.1211,\n         0.1241],\n        [0.1045, 0.0923, 0.0871, 0.0914, 0.1080, 0.1100, 0.0796, 0.0914, 0.1172,\n         0.1184]], grad_fn=<SoftmaxBackward>) tensor([1, 8, 3, 5])\n\n"
    },
    {
     "output_type": "error",
     "ename": "RuntimeError",
     "evalue": "The size of tensor a (10) must match the size of tensor b (4) at non-singleton dimension 1",
     "traceback": [
      "\u001b[0;31m---------------------------------------------------------------------------\u001b[0m",
      "\u001b[0;31mRuntimeError\u001b[0m                              Traceback (most recent call last)",
      "\u001b[0;32m<ipython-input-38-900062f35055>\u001b[0m in \u001b[0;36m<module>\u001b[0;34m\u001b[0m\n\u001b[1;32m     43\u001b[0m     \u001b[0mprint\u001b[0m\u001b[0;34m(\u001b[0m\u001b[0;34m'Finished Training'\u001b[0m\u001b[0;34m)\u001b[0m\u001b[0;34m\u001b[0m\u001b[0;34m\u001b[0m\u001b[0m\n\u001b[1;32m     44\u001b[0m \u001b[0;34m\u001b[0m\u001b[0m\n\u001b[0;32m---> 45\u001b[0;31m \u001b[0mtrain\u001b[0m\u001b[0;34m(\u001b[0m\u001b[0mmodel\u001b[0m\u001b[0;34m,\u001b[0m \u001b[0mtrain_loader\u001b[0m\u001b[0;34m,\u001b[0m \u001b[0mval_loader\u001b[0m\u001b[0;34m,\u001b[0m \u001b[0moptimizer\u001b[0m\u001b[0;34m,\u001b[0m \u001b[0;36m6\u001b[0m\u001b[0;34m)\u001b[0m\u001b[0;34m\u001b[0m\u001b[0;34m\u001b[0m\u001b[0m\n\u001b[0m",
      "\u001b[0;32m<ipython-input-38-900062f35055>\u001b[0m in \u001b[0;36mtrain\u001b[0;34m(model, train_loader, val_loader, optimizer, epochs)\u001b[0m\n\u001b[1;32m     27\u001b[0m \u001b[0;34m\u001b[0m\u001b[0m\n\u001b[1;32m     28\u001b[0m                 \u001b[0;31m# Calculate current model loss.\u001b[0m\u001b[0;34m\u001b[0m\u001b[0;34m\u001b[0m\u001b[0;34m\u001b[0m\u001b[0m\n\u001b[0;32m---> 29\u001b[0;31m                 \u001b[0mloss\u001b[0m \u001b[0;34m=\u001b[0m \u001b[0mcriterion\u001b[0m\u001b[0;34m(\u001b[0m\u001b[0moutputs\u001b[0m\u001b[0;34m,\u001b[0m \u001b[0mlabels\u001b[0m\u001b[0;34m)\u001b[0m\u001b[0;34m\u001b[0m\u001b[0;34m\u001b[0m\u001b[0m\n\u001b[0m\u001b[1;32m     30\u001b[0m \u001b[0;34m\u001b[0m\u001b[0m\n\u001b[1;32m     31\u001b[0m                 \u001b[0;32mif\u001b[0m \u001b[0mphase\u001b[0m \u001b[0;34m==\u001b[0m \u001b[0;34m'train'\u001b[0m\u001b[0;34m:\u001b[0m\u001b[0;34m\u001b[0m\u001b[0;34m\u001b[0m\u001b[0m\n",
      "\u001b[0;32m~/.conda/envs/research/lib/python3.8/site-packages/torch/nn/modules/module.py\u001b[0m in \u001b[0;36m_call_impl\u001b[0;34m(self, *input, **kwargs)\u001b[0m\n\u001b[1;32m    720\u001b[0m             \u001b[0mresult\u001b[0m \u001b[0;34m=\u001b[0m \u001b[0mself\u001b[0m\u001b[0;34m.\u001b[0m\u001b[0m_slow_forward\u001b[0m\u001b[0;34m(\u001b[0m\u001b[0;34m*\u001b[0m\u001b[0minput\u001b[0m\u001b[0;34m,\u001b[0m \u001b[0;34m**\u001b[0m\u001b[0mkwargs\u001b[0m\u001b[0;34m)\u001b[0m\u001b[0;34m\u001b[0m\u001b[0;34m\u001b[0m\u001b[0m\n\u001b[1;32m    721\u001b[0m         \u001b[0;32melse\u001b[0m\u001b[0;34m:\u001b[0m\u001b[0;34m\u001b[0m\u001b[0;34m\u001b[0m\u001b[0m\n\u001b[0;32m--> 722\u001b[0;31m             \u001b[0mresult\u001b[0m \u001b[0;34m=\u001b[0m \u001b[0mself\u001b[0m\u001b[0;34m.\u001b[0m\u001b[0mforward\u001b[0m\u001b[0;34m(\u001b[0m\u001b[0;34m*\u001b[0m\u001b[0minput\u001b[0m\u001b[0;34m,\u001b[0m \u001b[0;34m**\u001b[0m\u001b[0mkwargs\u001b[0m\u001b[0;34m)\u001b[0m\u001b[0;34m\u001b[0m\u001b[0;34m\u001b[0m\u001b[0m\n\u001b[0m\u001b[1;32m    723\u001b[0m         for hook in itertools.chain(\n\u001b[1;32m    724\u001b[0m                 \u001b[0m_global_forward_hooks\u001b[0m\u001b[0;34m.\u001b[0m\u001b[0mvalues\u001b[0m\u001b[0;34m(\u001b[0m\u001b[0;34m)\u001b[0m\u001b[0;34m,\u001b[0m\u001b[0;34m\u001b[0m\u001b[0;34m\u001b[0m\u001b[0m\n",
      "\u001b[0;32m~/.conda/envs/research/lib/python3.8/site-packages/torch/nn/modules/loss.py\u001b[0m in \u001b[0;36mforward\u001b[0;34m(self, input, target)\u001b[0m\n\u001b[1;32m    443\u001b[0m \u001b[0;34m\u001b[0m\u001b[0m\n\u001b[1;32m    444\u001b[0m     \u001b[0;32mdef\u001b[0m \u001b[0mforward\u001b[0m\u001b[0;34m(\u001b[0m\u001b[0mself\u001b[0m\u001b[0;34m,\u001b[0m \u001b[0minput\u001b[0m\u001b[0;34m:\u001b[0m \u001b[0mTensor\u001b[0m\u001b[0;34m,\u001b[0m \u001b[0mtarget\u001b[0m\u001b[0;34m:\u001b[0m \u001b[0mTensor\u001b[0m\u001b[0;34m)\u001b[0m \u001b[0;34m->\u001b[0m \u001b[0mTensor\u001b[0m\u001b[0;34m:\u001b[0m\u001b[0;34m\u001b[0m\u001b[0;34m\u001b[0m\u001b[0m\n\u001b[0;32m--> 445\u001b[0;31m         \u001b[0;32mreturn\u001b[0m \u001b[0mF\u001b[0m\u001b[0;34m.\u001b[0m\u001b[0mmse_loss\u001b[0m\u001b[0;34m(\u001b[0m\u001b[0minput\u001b[0m\u001b[0;34m,\u001b[0m \u001b[0mtarget\u001b[0m\u001b[0;34m,\u001b[0m \u001b[0mreduction\u001b[0m\u001b[0;34m=\u001b[0m\u001b[0mself\u001b[0m\u001b[0;34m.\u001b[0m\u001b[0mreduction\u001b[0m\u001b[0;34m)\u001b[0m\u001b[0;34m\u001b[0m\u001b[0;34m\u001b[0m\u001b[0m\n\u001b[0m\u001b[1;32m    446\u001b[0m \u001b[0;34m\u001b[0m\u001b[0m\n\u001b[1;32m    447\u001b[0m \u001b[0;34m\u001b[0m\u001b[0m\n",
      "\u001b[0;32m~/.conda/envs/research/lib/python3.8/site-packages/torch/nn/functional.py\u001b[0m in \u001b[0;36mmse_loss\u001b[0;34m(input, target, size_average, reduce, reduction)\u001b[0m\n\u001b[1;32m   2645\u001b[0m             \u001b[0mret\u001b[0m \u001b[0;34m=\u001b[0m \u001b[0mtorch\u001b[0m\u001b[0;34m.\u001b[0m\u001b[0mmean\u001b[0m\u001b[0;34m(\u001b[0m\u001b[0mret\u001b[0m\u001b[0;34m)\u001b[0m \u001b[0;32mif\u001b[0m \u001b[0mreduction\u001b[0m \u001b[0;34m==\u001b[0m \u001b[0;34m'mean'\u001b[0m \u001b[0;32melse\u001b[0m \u001b[0mtorch\u001b[0m\u001b[0;34m.\u001b[0m\u001b[0msum\u001b[0m\u001b[0;34m(\u001b[0m\u001b[0mret\u001b[0m\u001b[0;34m)\u001b[0m\u001b[0;34m\u001b[0m\u001b[0;34m\u001b[0m\u001b[0m\n\u001b[1;32m   2646\u001b[0m     \u001b[0;32melse\u001b[0m\u001b[0;34m:\u001b[0m\u001b[0;34m\u001b[0m\u001b[0;34m\u001b[0m\u001b[0m\n\u001b[0;32m-> 2647\u001b[0;31m         \u001b[0mexpanded_input\u001b[0m\u001b[0;34m,\u001b[0m \u001b[0mexpanded_target\u001b[0m \u001b[0;34m=\u001b[0m \u001b[0mtorch\u001b[0m\u001b[0;34m.\u001b[0m\u001b[0mbroadcast_tensors\u001b[0m\u001b[0;34m(\u001b[0m\u001b[0minput\u001b[0m\u001b[0;34m,\u001b[0m \u001b[0mtarget\u001b[0m\u001b[0;34m)\u001b[0m\u001b[0;34m\u001b[0m\u001b[0;34m\u001b[0m\u001b[0m\n\u001b[0m\u001b[1;32m   2648\u001b[0m         \u001b[0mret\u001b[0m \u001b[0;34m=\u001b[0m \u001b[0mtorch\u001b[0m\u001b[0;34m.\u001b[0m\u001b[0m_C\u001b[0m\u001b[0;34m.\u001b[0m\u001b[0m_nn\u001b[0m\u001b[0;34m.\u001b[0m\u001b[0mmse_loss\u001b[0m\u001b[0;34m(\u001b[0m\u001b[0mexpanded_input\u001b[0m\u001b[0;34m,\u001b[0m \u001b[0mexpanded_target\u001b[0m\u001b[0;34m,\u001b[0m \u001b[0m_Reduction\u001b[0m\u001b[0;34m.\u001b[0m\u001b[0mget_enum\u001b[0m\u001b[0;34m(\u001b[0m\u001b[0mreduction\u001b[0m\u001b[0;34m)\u001b[0m\u001b[0;34m)\u001b[0m\u001b[0;34m\u001b[0m\u001b[0;34m\u001b[0m\u001b[0m\n\u001b[1;32m   2649\u001b[0m     \u001b[0;32mreturn\u001b[0m \u001b[0mret\u001b[0m\u001b[0;34m\u001b[0m\u001b[0;34m\u001b[0m\u001b[0m\n",
      "\u001b[0;32m~/.conda/envs/research/lib/python3.8/site-packages/torch/functional.py\u001b[0m in \u001b[0;36mbroadcast_tensors\u001b[0;34m(*tensors)\u001b[0m\n\u001b[1;32m     63\u001b[0m         \u001b[0;32mif\u001b[0m \u001b[0many\u001b[0m\u001b[0;34m(\u001b[0m\u001b[0mtype\u001b[0m\u001b[0;34m(\u001b[0m\u001b[0mt\u001b[0m\u001b[0;34m)\u001b[0m \u001b[0;32mis\u001b[0m \u001b[0;32mnot\u001b[0m \u001b[0mTensor\u001b[0m \u001b[0;32mfor\u001b[0m \u001b[0mt\u001b[0m \u001b[0;32min\u001b[0m \u001b[0mtensors\u001b[0m\u001b[0;34m)\u001b[0m \u001b[0;32mand\u001b[0m \u001b[0mhas_torch_function\u001b[0m\u001b[0;34m(\u001b[0m\u001b[0mtensors\u001b[0m\u001b[0;34m)\u001b[0m\u001b[0;34m:\u001b[0m\u001b[0;34m\u001b[0m\u001b[0;34m\u001b[0m\u001b[0m\n\u001b[1;32m     64\u001b[0m             \u001b[0;32mreturn\u001b[0m \u001b[0mhandle_torch_function\u001b[0m\u001b[0;34m(\u001b[0m\u001b[0mbroadcast_tensors\u001b[0m\u001b[0;34m,\u001b[0m \u001b[0mtensors\u001b[0m\u001b[0;34m,\u001b[0m \u001b[0;34m*\u001b[0m\u001b[0mtensors\u001b[0m\u001b[0;34m)\u001b[0m\u001b[0;34m\u001b[0m\u001b[0;34m\u001b[0m\u001b[0m\n\u001b[0;32m---> 65\u001b[0;31m     \u001b[0;32mreturn\u001b[0m \u001b[0m_VF\u001b[0m\u001b[0;34m.\u001b[0m\u001b[0mbroadcast_tensors\u001b[0m\u001b[0;34m(\u001b[0m\u001b[0mtensors\u001b[0m\u001b[0;34m)\u001b[0m\u001b[0;34m\u001b[0m\u001b[0;34m\u001b[0m\u001b[0m\n\u001b[0m\u001b[1;32m     66\u001b[0m \u001b[0;34m\u001b[0m\u001b[0m\n\u001b[1;32m     67\u001b[0m \u001b[0;34m\u001b[0m\u001b[0m\n",
      "\u001b[0;31mRuntimeError\u001b[0m: The size of tensor a (10) must match the size of tensor b (4) at non-singleton dimension 1"
     ]
    }
   ],
   "source": [
    "def train(model, train_loader, val_loader, optimizer, epochs):\n",
    "\n",
    "    # Iterate for several epochs\n",
    "    for epoch in tqdm.tqdm(range(epochs)):\n",
    "        train_loss = val_loss = 0.0\n",
    "\n",
    "        for phase in ['train', 'val']:\n",
    "            \n",
    "            if phase == 'train':\n",
    "                loader = train_loader\n",
    "            else:\n",
    "                loader = val_loader\n",
    "\n",
    "            # Iterate for each data item in the training set\n",
    "            for i, data in enumerate(loader, 0):\n",
    "                \n",
    "                # Get the sample input data.\n",
    "                inputs, labels = data[0].to(device), data[1].to(device)\n",
    "\n",
    "                # Reset the gradients\n",
    "                optimizer.zero_grad()\n",
    "\n",
    "                # Perform forward pass.\n",
    "                outputs = model(inputs)\n",
    "\n",
    "                print(outputs, labels)\n",
    "\n",
    "                # Calculate current model loss.\n",
    "                loss = criterion(outputs, labels)\n",
    "\n",
    "                if phase == 'train':\n",
    "                     \n",
    "                     # Perform backward pass.\n",
    "                    loss.backward()\n",
    "                    optimizer.step()\n",
    "\n",
    "                    train_loss += loss.item()\n",
    "                else:\n",
    "                    val_loss += loss.item()\n",
    "        \n",
    "        print('Epoch %d - Train Loss: %.3f Validation Loss %.3f' % (epoch + 1, train_loss/len(train_loader), val_loss/len(val_loader)))\n",
    "\n",
    "    print('Finished Training')\n",
    "\n",
    "train(model, train_loader, val_loader, optimizer, 6)"
   ]
  },
  {
   "source": [
    "## Evaluating the Model\n",
    "\n",
    "We evaluate the model on a ransom sample of test data to see how well it performs."
   ],
   "cell_type": "markdown",
   "metadata": {}
  },
  {
   "cell_type": "code",
   "execution_count": null,
   "metadata": {},
   "outputs": [],
   "source": [
    "def test(model, test_loader):\n",
    "\n",
    "    dataiter = iter(testloader)\n",
    "    images, labels = dataiter.next()\n",
    "\n",
    "    # Showing the test images\n",
    "    show_image(torchvision.utils.make_grid(images))\n",
    "    print('GroundTruth: ', ' '.join('%5s' % classes[labels[j]] for j in range(4)))\n",
    "\n",
    "    outputs = model(images.to(device))\n",
    "    _, predicted = torch.max(outputs, 1)\n",
    "\n",
    "    print('Predicted: ', ' '.join('%5s' % classes[predicted[j]] for j in range(4)))\n",
    "\n",
    "test(model, test_loader)"
   ]
  },
  {
   "source": [
    "### Evaluating on the entire dataset\n",
    "\n",
    "We further evaluate the model's performance on the entire dataset."
   ],
   "cell_type": "markdown",
   "metadata": {}
  },
  {
   "cell_type": "code",
   "execution_count": null,
   "metadata": {},
   "outputs": [],
   "source": [
    "def test_full(model, test_loader):\n",
    "\n",
    "    correct = 0\n",
    "    total = 0\n",
    "    with torch.no_grad():\n",
    "        for data in testloader:\n",
    "            images, labels = data[0].to(device), data[1].to(device)\n",
    "            outputs = model(images)\n",
    "            _, predicted = torch.max(outputs.data, 1)\n",
    "            total += labels.size(0)\n",
    "            correct += (predicted == labels).sum().item()\n",
    "\n",
    "    print('Accuracy of the network on the 10000 test images: %d %%' % (\n",
    "        100 * correct / total))\n",
    "\n",
    "test_full(model, test_loader)"
   ]
  },
  {
   "source": [
    "### Evaluating class by class\n",
    "\n",
    "We further evaluate the class by class accuracy of the model"
   ],
   "cell_type": "markdown",
   "metadata": {}
  },
  {
   "cell_type": "code",
   "execution_count": null,
   "metadata": {},
   "outputs": [],
   "source": [
    "def test_class(model, test_loader):\n",
    "\n",
    "    class_correct = list(0. for i in range(10))\n",
    "    class_total = list(0. for i in range(10))\n",
    "    with torch.no_grad():\n",
    "        for data in test_loader:\n",
    "            images, labels = data[0].to(device), data[1].to(device)\n",
    "            outputs = model(images.to(device))\n",
    "            _, predicted = torch.max(outputs, 1)\n",
    "            c = (predicted == labels).squeeze()\n",
    "            for i in range(4):\n",
    "                label = labels[i]\n",
    "                class_correct[label] += c[i].item()\n",
    "                class_total[label] += 1\n",
    "\n",
    "\n",
    "    for i in range(10):\n",
    "        print('Accuracy of %5s : %2d %%' % (\n",
    "            classes[i], 100 * class_correct[i] / class_total[i]))\n",
    "\n",
    "test_class(model, test_loader)"
   ]
  }
 ]
}