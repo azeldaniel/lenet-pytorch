{
 "metadata": {
  "language_info": {
   "codemirror_mode": {
    "name": "ipython",
    "version": 3
   },
   "file_extension": ".py",
   "mimetype": "text/x-python",
   "name": "python",
   "nbconvert_exporter": "python",
   "pygments_lexer": "ipython3",
   "version": "3.8.5-final"
  },
  "orig_nbformat": 2,
  "kernelspec": {
   "name": "python38564bitresearchconda6e46ab89dee4447294274d22b6e2b99b",
   "display_name": "Python 3.8.5 64-bit ('research': conda)"
  }
 },
 "nbformat": 4,
 "nbformat_minor": 2,
 "cells": [
  {
   "source": [
    "Lenet Test"
   ],
   "cell_type": "markdown",
   "metadata": {}
  },
  {
   "cell_type": "code",
   "execution_count": 1,
   "metadata": {},
   "outputs": [],
   "source": [
    "import torch\n",
    "import torch.nn as nn\n",
    "\n",
    "class LeNet1(nn.Module):\n",
    "    \n",
    "    def __init__(self):\n",
    "        super(LeNet1, self).__init__()\n",
    "        \n",
    "        # input is Nx1x28x28\n",
    "        model_list = [\n",
    "            # params: 4*(5*5*1 + 1) = 104\n",
    "            # output is (28 - 5) + 1 = 24 => Nx4x24x24\n",
    "            nn.Conv2d(1, 4, 5),\n",
    "            nn.Tanh(),\n",
    "            # output is 24/2 = 12 => Nx4x12x12\n",
    "            nn.AvgPool2d(2),\n",
    "            # params: (5*5*4 + 1) * 12 = 1212\n",
    "            # output: 12 - 5 + 1 = 8 => Nx12x8x8\n",
    "            nn.Conv2d(4, 12, 5),\n",
    "            nn.Tanh(),\n",
    "            # output: 8/2 = 4 => Nx12x4x4\n",
    "            nn.AvgPool2d(2)\n",
    "        ]\n",
    "        \n",
    "        self.model = nn.Sequential(*model_list)\n",
    "        # params: (12*4*4 + 1) * 10 = 1930\n",
    "        self.fc = nn.Linear(12*4*4, 10)\n",
    "        self.criterion = nn.CrossEntropyLoss()\n",
    "        \n",
    "        # Total number of parameters = 104 + 1212 + 1930 = 3246\n",
    "    \n",
    "    def forward(self, x):\n",
    "        out = self.model(x)\n",
    "        out = out.view(x.size(0), -1)\n",
    "        out = self.fc(out)\n",
    "        return out"
   ]
  },
  {
   "cell_type": "code",
   "execution_count": 2,
   "metadata": {
    "tags": []
   },
   "outputs": [
    {
     "output_type": "stream",
     "name": "stdout",
     "text": "torch.Size([4, 1, 5, 5])\ntorch.Size([100])\n\ntorch.Size([4])\ntorch.Size([4])\n\ntorch.Size([12, 4, 5, 5])\ntorch.Size([1200])\n\ntorch.Size([12])\ntorch.Size([12])\n\ntorch.Size([10, 192])\ntorch.Size([1920])\n\ntorch.Size([10])\ntorch.Size([10])\n\nTotal Params number: 3246\n"
    }
   ],
   "source": [
    "net = LeNet1()\n",
    "params_num = 0\n",
    "for parameter in net.parameters():\n",
    "    print(parameter.size())\n",
    "    print(parameter.view((-1,)).size())\n",
    "    print()\n",
    "    params_num += list(parameter.view((-1,)).size())[0]\n",
    "\n",
    "print(\"Total Params number: {}\".format(params_num))\n"
   ]
  },
  {
   "cell_type": "code",
   "execution_count": 3,
   "metadata": {
    "tags": []
   },
   "outputs": [
    {
     "output_type": "stream",
     "name": "stdout",
     "text": "Downloading http://yann.lecun.com/exdb/mnist/train-images-idx3-ubyte.gz to ./data/MNIST/raw/train-images-idx3-ubyte.gz\n100.1%Extracting ./data/MNIST/raw/train-images-idx3-ubyte.gz to ./data/MNIST/raw\n0.0%Downloading http://yann.lecun.com/exdb/mnist/train-labels-idx1-ubyte.gz to ./data/MNIST/raw/train-labels-idx1-ubyte.gz\n113.5%Extracting ./data/MNIST/raw/train-labels-idx1-ubyte.gz to ./data/MNIST/raw\nDownloading http://yann.lecun.com/exdb/mnist/t10k-images-idx3-ubyte.gz to ./data/MNIST/raw/t10k-images-idx3-ubyte.gz\n100.4%Extracting ./data/MNIST/raw/t10k-images-idx3-ubyte.gz to ./data/MNIST/raw\nDownloading http://yann.lecun.com/exdb/mnist/t10k-labels-idx1-ubyte.gz to ./data/MNIST/raw/t10k-labels-idx1-ubyte.gz\n180.4%Extracting ./data/MNIST/raw/t10k-labels-idx1-ubyte.gz to ./data/MNIST/raw\nProcessing...\nDone!\n"
    }
   ],
   "source": [
    "import numpy as np\n",
    "import torchvision\n",
    "import torchvision.transforms as transforms\n",
    "\n",
    "transform = transforms.Compose([\n",
    "    transforms.ToTensor(),\n",
    "    transforms.Normalize((0.5,), (0.5,))\n",
    "])\n",
    "\n",
    "full_train_set = torchvision.datasets.MNIST(root = \"./data\", train = True, download = True, transform=transform)\n",
    "test_set = torchvision.datasets.MNIST(root = \"./data\", train = False, download = True, transform=transform)\n",
    "\n",
    "val_set, train_set = torch.utils.data.random_split(full_train_set, (10000, len(full_train_set) - 10000))\n",
    "mini_train_set, mini_val_set = torch.utils.data.random_split(full_train_set, (100, len(full_train_set) - 100))\n",
    "mini_val_set = torch.utils.data.Subset(mini_val_set, np.arange(0, 20))"
   ]
  },
  {
   "cell_type": "code",
   "execution_count": 4,
   "metadata": {
    "tags": []
   },
   "outputs": [
    {
     "output_type": "stream",
     "name": "stdout",
     "text": "tensor(1.)\ntensor(-1.)\n"
    },
    {
     "output_type": "display_data",
     "data": {
      "text/plain": "<Figure size 1440x1080 with 1 Axes>",
      "image/svg+xml": "<?xml version=\"1.0\" encoding=\"utf-8\" standalone=\"no\"?>\n<!DOCTYPE svg PUBLIC \"-//W3C//DTD SVG 1.1//EN\"\n  \"http://www.w3.org/Graphics/SVG/1.1/DTD/svg11.dtd\">\n<!-- Created with matplotlib (https://matplotlib.org/) -->\n<svg height=\"323.799436pt\" version=\"1.1\" viewBox=\"0 0 1150.125 323.799436\" width=\"1150.125pt\" xmlns=\"http://www.w3.org/2000/svg\" xmlns:xlink=\"http://www.w3.org/1999/xlink\">\n <metadata>\n  <rdf:RDF xmlns:cc=\"http://creativecommons.org/ns#\" xmlns:dc=\"http://purl.org/dc/elements/1.1/\" xmlns:rdf=\"http://www.w3.org/1999/02/22-rdf-syntax-ns#\">\n   <cc:Work>\n    <dc:type rdf:resource=\"http://purl.org/dc/dcmitype/StillImage\"/>\n    <dc:date>2020-09-26T18:49:28.805961</dc:date>\n    <dc:format>image/svg+xml</dc:format>\n    <dc:creator>\n     <cc:Agent>\n      <dc:title>Matplotlib v3.3.1, https://matplotlib.org/</dc:title>\n     </cc:Agent>\n    </dc:creator>\n   </cc:Work>\n  </rdf:RDF>\n </metadata>\n <defs>\n  <style type=\"text/css\">*{stroke-linecap:butt;stroke-linejoin:round;}</style>\n </defs>\n <g id=\"figure_1\">\n  <g id=\"patch_1\">\n   <path d=\"M 0 323.799436 \nL 1150.125 323.799436 \nL 1150.125 -0 \nL 0 -0 \nz\n\" style=\"fill:none;\"/>\n  </g>\n  <g id=\"axes_1\">\n   <g id=\"patch_2\">\n    <path d=\"M 26.925 299.921311 \nL 1142.925 299.921311 \nL 1142.925 7.2 \nL 26.925 7.2 \nz\n\" style=\"fill:#ffffff;\"/>\n   </g>\n   <g clip-path=\"url(#pfc3259ca41)\">\n    <image height=\"293\" id=\"imagefe3374c45c\" transform=\"scale(1 -1)translate(0 -293)\" width=\"1116\" x=\"26.925\" xlink:href=\"data:image/png;base64,\niVBORw0KGgoAAAANSUhEUgAABFwAAAElCAYAAADZbPZnAAAS7klEQVR4nO3aXYhd9bnH8bXbXepLb2QcFMF4YzWx9sKKxNSks7bYhrQ3NY1IsaKIiUHBBAqtkOjeW42IoFiopcTQQq2K+BKh0DT4MmtMsChKVEJmIlZqaWtLMlgJcWpLu8+F5Rw4h5Pnb/LM7Mnk87n+svajySydH7vV7XYHFQAAAABpPjPsAwAAAAAWGoMLAAAAQDKDCwAAAEAygwsAAABAMoMLAAAAQDKDCwAAAEAygwsAAABAMoMLAAAAQDKDCwAAAEAygwsAAABAMoMLAAAAQDKDCwAAAEAygwsAAABAMoMLAAAAQDKDCwAAAEAygwsAAABAMoMLAAAAQLJ21oP6/X7Wo4DjTLfbTXuWdwmcuLLeJd4jcOLy/yRAhqx3iW+4AAAAACQzuAAAAAAkM7gAAAAAJDO4AAAAACQzuAAAAAAkM7gAAAAAJDO4AAAAACQzuAAAAAAkM7gAAAAAJDO4AAAAACQzuAAAAAAkM7gAAAAAJDO4AAAAACQzuAAAAAAkM7gAAAAAJDO4AAAAACQzuAAAAAAkM7gAAAAAJDO4AAAAACQzuAAAAAAkM7gAAAAAJDO4AAAAACQzuAAAAAAkM7gAAAAAJDO4AAAAACQzuAAAAAAkM7gAAAAAJGsP+wD+r+9973thc9lll83BJZ9Yt25d2ExOTobN+vXriz5v9+7dRR0AAADMV77hAgAAAJDM4AIAAACQzOACAAAAkMzgAgAAAJDM4AIAAACQzOACAAAAkMzgAgAAAJDM4AIAAACQrD3sA04kmzZtKuo2bNgQNiMjI2HTarXCZjAYpDxnyZIlYbN69eqwqaqq2r17d1EHABydkv/+l+r3+2HT6/XSPg+YG1deeWXY3HnnnWHzpS99KWzeeuutsHn66afD5r777gubjz/+OGwgi2+4AAAAACQzuAAAAAAkM7gAAAAAJDO4AAAAACQzuAAAAAAkM7gAAAAAJDO4AAAAACQzuAAAAAAkaw/7gIVi5cqVYdPv94ueNT09HTaDwaDoWfPpORs2bCh61tlnnx02V111VdGzYCGq6zql6Xa7YdM0TdhMTEyETemzShpgfil5l4yNjYVNp9PJOAcInHbaaUXdtm3bwubkk08Om7/97W9hc/7554dNye9Sl112WdiU/k6yf//+om4+Wbp0adj84x//KHrWnj17jvUcKt9wAQAAAEhncAEAAABIZnABAAAASGZwAQAAAEhmcAEAAABIZnABAAAASGZwAQAAAEhmcAEAAABI1h72AQvF6tWrw6bVahU9a2pqKmxOP/30sNm+fXvKZ42OjobNbbfdlvKcqir7d7lp06aw2bJlS9HnwfGm2+2GTV3XKZ9V8pzSzyq5u2masOl0OkWfB/z/+v1+2JT8zJYqeU/0er2UBjiyz3/+80XdaaedFjZ333132Nxxxx1hc+6554bNT3/607C54oorwmZiYiJsqqqqvvrVr4bNu+++W/SsDOedd17YPP/882Hz5ptvFn3e8uXLizqOzDdcAAAAAJIZXAAAAACSGVwAAAAAkhlcAAAAAJIZXAAAAACSGVwAAAAAkhlcAAAAAJIZXAAAAACStYd9wEKxadOmsHn99deLnjU5ORk2+/btC5vp6emiz8twyimnhM2dd95Z9KzBYBA23/72t8Nmy5YtRZ8H80ld1ynN8arkn218fDxsOp1OwjWwcPV6vbDpdruzf8in/LySu4EjO3z4cFH35z//OWy++MUvHus5VVVV1TvvvBM2V1xxRdiUvCNuv/32kpOqX/3qV2HzrW99K2x+//vfF31e5KGHHgqbU089NWx27NiRcQ6FfMMFAAAAIJnBBQAAACCZwQUAAAAgmcEFAAAAIJnBBQAAACCZwQUAAAAgmcEFAAAAIJnBBQAAACCZwQUAAAAgWXvYBywUBw8eDJutW7fOwSXDsWXLlrC566670j5vdHQ0bEZGRsJmeno64xxIMz4+PuwT5r26rsOm5N9jp9NJuAYWrn6/X9R1u91ZvuR/lPz8N00z63fA8ezQoUNF3c6dO8Pmu9/9btisWrUqbHbs2FF0U6TX64XN+eefX/Ssq6++OmweeuihsLnqqqvC5hvf+EbYLFu2LGxKPProoynPoYxvuAAAAAAkM7gAAAAAJDO4AAAAACQzuAAAAAAkM7gAAAAAJDO4AAAAACQzuAAAAAAkM7gAAAAAJGsP+wAWhpGRkbAZDAZFzyrpDhw4EDbT09NFnwcnqqZpwqbf74dNt9st+ry6rou6DCWfVfpOmkslfyYTExNh0+v1jv0YTnglfx+rqqrGxsbCJuvnv+Q5pXcDR7Z169awufTSS8Pm5z//edjce++9YfPggw+GTYl169YVdV/+8pfDZtWqVWFz++23h80111wTNqecckrYbNu2LWz+9Kc/hQ15fMMFAAAAIJnBBQAAACCZwQUAAAAgmcEFAAAAIJnBBQAAACCZwQUAAAAgmcEFAAAAIJnBBQAAACBZe9gHsDD88pe/DJtWqzUHlwCl6rpOaciT9WfS7XbDptPphE3TNGHDwpX555/1Lin5uz02NhY2/X4/bPz950T3yiuvhM0NN9wQNj/72c/C5p577gmbFStWhM3DDz8cNr/5zW/Cpqqqatu2bWHzwAMPhM0Pf/jDos+LfPTRR2GzZcuWsPnnP/+ZcQ6FfMMFAAAAIJnBBQAAACCZwQUAAAAgmcEFAAAAIJnBBQAAACCZwQUAAAAgmcEFAAAAIJnBBQAAACBZe9gHcHSWL18eNtdcc03KZ61bty5sBoNBSlNVVXXgwIGwufbaa4ueBcebpmnCpq7rWb+DhW98fDxsWq3WHFzC8a7kvdXv98Om2+0mXFP2jiy5B4i98sorYbNy5cqw2bx5c9hcf/31YbNq1aqw+eCDD8KmqqrqrLPOCpvS328yrF+/Pmzee++9ObiET8M3XAAAAACSGVwAAAAAkhlcAAAAAJIZXAAAAACSGVwAAAAAkhlcAAAAAJIZXAAAAACSGVwAAAAAkrWHfQBHZ/Xq1WFz0003hc1gMAibVqtVdFPWc6677rqwmZqaOtZzYF7qdDphMz4+HjZ1XSdcQ4mmaYq6kj9bWKhKfk7GxsbCJuvdlvmOLH0HwInqj3/8Y9isX78+bB577LGwufrqq8PmnHPOCZuqqqo33ngjbEp+l1q6dGnYjIyMhM309HTYMP/4hgsAAABAMoMLAAAAQDKDCwAAAEAygwsAAABAMoMLAAAAQDKDCwAAAEAygwsAAABAMoMLAAAAQLL2sA/g6KxYsSJsBoNBSlNicnIybB5//PGiZ+3cufNYz4EFrdPppDyn1+uFzdjYWNjUdX3sxwALWtM0YTM+Pj77h/xHt9sNm5Kbgbnz0ksvpTRzbc2aNWHz5JNPhs3mzZvDZvfu3WFz6NChsCGPb7gAAAAAJDO4AAAAACQzuAAAAAAkM7gAAAAAJDO4AAAAACQzuAAAAAAkM7gAAAAAJDO4AAAAACQzuAAAAAAkaw/7AGZPq9VKec7+/fvD5pJLLgmbmZmZjHOAJL1eb9gnHJW6rsNmfHx89g/5j5J7gFjTNGHj5w3ml8997nNh8+9//zts/vWvf2WcMy899dRTYfPyyy+HzbJly8Lm7LPPDpt9+/aFDXl8wwUAAAAgmcEFAAAAIJnBBQAAACCZwQUAAAAgmcEFAAAAIJnBBQAAACCZwQUAAAAgmcEFAAAAIFl72AdwdHbt2hU2ixYtCpvBYBA2Dz74YNjMzMyEDUCGpmmGfQIwC/r9fspz6rpOeU632015TlV5b3F8OuOMM8Jm//79YfP++++HzXXXXRc2r776atgcryYmJsJm2bJlYbNx48awWbduXclJJPENFwAAAIBkBhcAAACAZAYXAAAAgGQGFwAAAIBkBhcAAACAZAYXAAAAgGQGFwAAAIBkBhcAAACAZO1hH8DRmZqaCpvR0dGwGQwGYbN48eKimwAAjlbTNGFT13VKUyLrOVVV9s8G882HH34YNr/97W/DZuXKlWHzox/9KGzWrl0bNnv37g2b+Wjr1q1hc9ttt4XNV77ylYxzSOQbLgAAAADJDC4AAAAAyQwuAAAAAMkMLgAAAADJDC4AAAAAyQwuAAAAAMkMLgAAAADJDC4AAAAAydrDPoCjc/DgwbAZDAYpzYYNG8LmkUceCZs9e/aEDUCkruthn8D/0uv1UhqIlPw9GhsbC5vM94h3EgvV3//+97C5//77w+aCCy4Im6VLl4bNww8/HDbf/OY3w+aDDz4Im7n2/vvvh83bb78dNuedd17YnHnmmUU3/eUvfynqODLfcAEAAABIZnABAAAASGZwAQAAAEhmcAEAAABIZnABAAAASGZwAQAAAEhmcAEAAABIZnABAAAASNYe9gHMnlarNa+eU2rx4sVhMzo6GjZLliwJm7Vr14bN5ORk2Dz77LNhU1VV9cwzzxR1cKKq6zpsut3u7B/yKTRNM+wThq7X6w37BPhv/X4/bEreNZlKfkb8HHE8ev7558PmxhtvDJtt27aFzdKlS8Pm5ptvDpt77rknbKqqqgaDQVGX4eOPPw6bw4cPh80XvvCFsDnppJOKbiKHb7gAAAAAJDO4AAAAACQzuAAAAAAkM7gAAAAAJDO4AAAAACQzuAAAAAAkM7gAAAAAJDO4AAAAACRrD/sAjs7y5cvDZjAYpDQHDx4Mm6997Wth89prr4VN6U2tVmvOnnPRRReFzcUXXxw2VVVVO3bsCJuZmZmiZ8GxKvkZIdbpdIZ9AjDPjY2NDfsEGJrnnnsubH7wgx+EzS9+8Yuwueuuu8LmD3/4Q9hUVVU98sgjRR0ciW+4AAAAACQzuAAAAAAkM7gAAAAAJDO4AAAAACQzuAAAAAAkM7gAAAAAJDO4AAAAACQzuAAAAAAkaw/7AI7O9u3bw2bjxo0pnzU6Oho2DzzwQNi0Wq2Mc4qfNTU1FTZLlizJOKe64IILirrFixeHzZ49e471HKh6vd6wT1gQOp3OsE8APqWmacKm3++HTbfbTbjmE3Vdh03Je9u7nYXqiSeeCJsbbrghbL7+9a+HzU9+8pOim0r+n3zv3r1Fz+LE5RsuAAAAAMkMLgAAAADJDC4AAAAAyQwuAAAAAMkMLgAAAADJDC4AAAAAyQwuAAAAAMkMLgAAAADJDC4AAAAAydrDPoCjs2vXrrBZs2ZN2Nx///1hs2jRorAZDAZhU2r79u1hs3nz5rCZmpoKmxUrVoTNkiVLwmbt2rVhU1VV9dFHHxV1cKx6vV7YdLvd2T9kSPr9ftg0TZPSAMefkp/thfyOhOPRzTffHDYvvPBC2JT8blNVVTU+Ph42t956a9js2LEjbL7zne+EzYUXXhg2hw4dCpuZmZmwIY9vuAAAAAAkM7gAAAAAJDO4AAAAACQzuAAAAAAkM7gAAAAAJDO4AAAAACQzuAAAAAAkM7gAAAAAJGsP+wBmzzPPPBM2Bw4cCJuJiYmw2b59e9g8++yzYVNVVfX000+HzczMTNGzIrt27Upptm7dmnEOzKlOpxM2dV2HTbfbTbjmE03ThE2/3095DnDiKnlHlL5HSt6TwLH73e9+FzaXX3552ExOThZ93sjISNg8+uijYXPo0KGwOfnkk8Om3Y5/dd+4cWPY/PWvfw0b8viGCwAAAEAygwsAAABAMoMLAAAAQDKDCwAAAEAygwsAAABAMoMLAAAAQDKDCwAAAEAygwsAAABAsvawD2C4du3aFTaf+YxdDhaipmlSml6vd8y3AMw3/X6/qKvrOuXzSt63wJG9++67YfPjH/+46FmrV68Om1//+tdhs2bNmrD57Gc/GzarVq0KmxdffDFsmFt+kwYAAABIZnABAAAASGZwAQAAAEhmcAEAAABIZnABAAAASGZwAQAAAEhmcAEAAABIZnABAAAASNYe9gEAADDfNE1T1LVardk9BEj1/e9/P7WL3HLLLSnP4fjkGy4AAAAAyQwuAAAAAMkMLgAAAADJDC4AAAAAyQwuAAAAAMkMLgAAAADJDC4AAAAAyQwuAAAAAMkMLgAAAADJDC4AAAAAyQwuAAAAAMkMLgAAAADJDC4AAAAAyQwuAAAAAMkMLgAAAADJDC4AAAAAyQwuAAAAAMkMLgAAAADJDC4AAAAAyQwuAAAAAMkMLgAAAADJDC4AAAAAyQwuAAAAAMkMLgAAAADJDC4AAAAAyQwuAAAAAMkMLgAAAADJDC4AAAAAyQwuAAAAAMkMLgAAAADJDC4AAAAAyQwuAAAAAMkMLgAAAADJDC4AAAAAyQwuAAAAAMkMLgAAAADJWt1udzDsIwAAAAAWEt9wAQAAAEhmcAEAAABIZnABAAAASGZwAQAAAEhmcAEAAABIZnABAAAASGZwAQAAAEhmcAEAAABIZnABAAAASGZwAQAAAEhmcAEAAABIZnABAAAASGZwAQAAAEhmcAEAAABIZnABAAAASGZwAQAAAEhmcAEAAABI9l9BP0IQcwFfdQAAAABJRU5ErkJggg==\" y=\"-6.921311\"/>\n   </g>\n   <g id=\"matplotlib.axis_1\">\n    <g id=\"xtick_1\">\n     <g id=\"line2d_1\">\n      <defs>\n       <path d=\"M 0 0 \nL 0 3.5 \n\" id=\"m2e0f361500\" style=\"stroke:#000000;stroke-width:0.8;\"/>\n      </defs>\n      <g>\n       <use style=\"stroke:#000000;stroke-width:0.8;\" x=\"31.49877\" xlink:href=\"#m2e0f361500\" y=\"299.921311\"/>\n      </g>\n     </g>\n     <g id=\"text_1\">\n      <!-- 0 -->\n      <g transform=\"translate(28.31752 314.519749)scale(0.1 -0.1)\">\n       <defs>\n        <path d=\"M 31.78125 66.40625 \nQ 24.171875 66.40625 20.328125 58.90625 \nQ 16.5 51.421875 16.5 36.375 \nQ 16.5 21.390625 20.328125 13.890625 \nQ 24.171875 6.390625 31.78125 6.390625 \nQ 39.453125 6.390625 43.28125 13.890625 \nQ 47.125 21.390625 47.125 36.375 \nQ 47.125 51.421875 43.28125 58.90625 \nQ 39.453125 66.40625 31.78125 66.40625 \nz\nM 31.78125 74.21875 \nQ 44.046875 74.21875 50.515625 64.515625 \nQ 56.984375 54.828125 56.984375 36.375 \nQ 56.984375 17.96875 50.515625 8.265625 \nQ 44.046875 -1.421875 31.78125 -1.421875 \nQ 19.53125 -1.421875 13.0625 8.265625 \nQ 6.59375 17.96875 6.59375 36.375 \nQ 6.59375 54.828125 13.0625 64.515625 \nQ 19.53125 74.21875 31.78125 74.21875 \nz\n\" id=\"DejaVuSans-48\"/>\n       </defs>\n       <use xlink:href=\"#DejaVuSans-48\"/>\n      </g>\n     </g>\n    </g>\n    <g id=\"xtick_2\">\n     <g id=\"line2d_2\">\n      <g>\n       <use style=\"stroke:#000000;stroke-width:0.8;\" x=\"214.44959\" xlink:href=\"#m2e0f361500\" y=\"299.921311\"/>\n      </g>\n     </g>\n     <g id=\"text_2\">\n      <!-- 20 -->\n      <g transform=\"translate(208.08709 314.519749)scale(0.1 -0.1)\">\n       <defs>\n        <path d=\"M 19.1875 8.296875 \nL 53.609375 8.296875 \nL 53.609375 0 \nL 7.328125 0 \nL 7.328125 8.296875 \nQ 12.9375 14.109375 22.625 23.890625 \nQ 32.328125 33.6875 34.8125 36.53125 \nQ 39.546875 41.84375 41.421875 45.53125 \nQ 43.3125 49.21875 43.3125 52.78125 \nQ 43.3125 58.59375 39.234375 62.25 \nQ 35.15625 65.921875 28.609375 65.921875 \nQ 23.96875 65.921875 18.8125 64.3125 \nQ 13.671875 62.703125 7.8125 59.421875 \nL 7.8125 69.390625 \nQ 13.765625 71.78125 18.9375 73 \nQ 24.125 74.21875 28.421875 74.21875 \nQ 39.75 74.21875 46.484375 68.546875 \nQ 53.21875 62.890625 53.21875 53.421875 \nQ 53.21875 48.921875 51.53125 44.890625 \nQ 49.859375 40.875 45.40625 35.40625 \nQ 44.1875 33.984375 37.640625 27.21875 \nQ 31.109375 20.453125 19.1875 8.296875 \nz\n\" id=\"DejaVuSans-50\"/>\n       </defs>\n       <use xlink:href=\"#DejaVuSans-50\"/>\n       <use x=\"63.623047\" xlink:href=\"#DejaVuSans-48\"/>\n      </g>\n     </g>\n    </g>\n    <g id=\"xtick_3\">\n     <g id=\"line2d_3\">\n      <g>\n       <use style=\"stroke:#000000;stroke-width:0.8;\" x=\"397.40041\" xlink:href=\"#m2e0f361500\" y=\"299.921311\"/>\n      </g>\n     </g>\n     <g id=\"text_3\">\n      <!-- 40 -->\n      <g transform=\"translate(391.03791 314.519749)scale(0.1 -0.1)\">\n       <defs>\n        <path d=\"M 37.796875 64.3125 \nL 12.890625 25.390625 \nL 37.796875 25.390625 \nz\nM 35.203125 72.90625 \nL 47.609375 72.90625 \nL 47.609375 25.390625 \nL 58.015625 25.390625 \nL 58.015625 17.1875 \nL 47.609375 17.1875 \nL 47.609375 0 \nL 37.796875 0 \nL 37.796875 17.1875 \nL 4.890625 17.1875 \nL 4.890625 26.703125 \nz\n\" id=\"DejaVuSans-52\"/>\n       </defs>\n       <use xlink:href=\"#DejaVuSans-52\"/>\n       <use x=\"63.623047\" xlink:href=\"#DejaVuSans-48\"/>\n      </g>\n     </g>\n    </g>\n    <g id=\"xtick_4\">\n     <g id=\"line2d_4\">\n      <g>\n       <use style=\"stroke:#000000;stroke-width:0.8;\" x=\"580.35123\" xlink:href=\"#m2e0f361500\" y=\"299.921311\"/>\n      </g>\n     </g>\n     <g id=\"text_4\">\n      <!-- 60 -->\n      <g transform=\"translate(573.98873 314.519749)scale(0.1 -0.1)\">\n       <defs>\n        <path d=\"M 33.015625 40.375 \nQ 26.375 40.375 22.484375 35.828125 \nQ 18.609375 31.296875 18.609375 23.390625 \nQ 18.609375 15.53125 22.484375 10.953125 \nQ 26.375 6.390625 33.015625 6.390625 \nQ 39.65625 6.390625 43.53125 10.953125 \nQ 47.40625 15.53125 47.40625 23.390625 \nQ 47.40625 31.296875 43.53125 35.828125 \nQ 39.65625 40.375 33.015625 40.375 \nz\nM 52.59375 71.296875 \nL 52.59375 62.3125 \nQ 48.875 64.0625 45.09375 64.984375 \nQ 41.3125 65.921875 37.59375 65.921875 \nQ 27.828125 65.921875 22.671875 59.328125 \nQ 17.53125 52.734375 16.796875 39.40625 \nQ 19.671875 43.65625 24.015625 45.921875 \nQ 28.375 48.1875 33.59375 48.1875 \nQ 44.578125 48.1875 50.953125 41.515625 \nQ 57.328125 34.859375 57.328125 23.390625 \nQ 57.328125 12.15625 50.6875 5.359375 \nQ 44.046875 -1.421875 33.015625 -1.421875 \nQ 20.359375 -1.421875 13.671875 8.265625 \nQ 6.984375 17.96875 6.984375 36.375 \nQ 6.984375 53.65625 15.1875 63.9375 \nQ 23.390625 74.21875 37.203125 74.21875 \nQ 40.921875 74.21875 44.703125 73.484375 \nQ 48.484375 72.75 52.59375 71.296875 \nz\n\" id=\"DejaVuSans-54\"/>\n       </defs>\n       <use xlink:href=\"#DejaVuSans-54\"/>\n       <use x=\"63.623047\" xlink:href=\"#DejaVuSans-48\"/>\n      </g>\n     </g>\n    </g>\n    <g id=\"xtick_5\">\n     <g id=\"line2d_5\">\n      <g>\n       <use style=\"stroke:#000000;stroke-width:0.8;\" x=\"763.302049\" xlink:href=\"#m2e0f361500\" y=\"299.921311\"/>\n      </g>\n     </g>\n     <g id=\"text_5\">\n      <!-- 80 -->\n      <g transform=\"translate(756.939549 314.519749)scale(0.1 -0.1)\">\n       <defs>\n        <path d=\"M 31.78125 34.625 \nQ 24.75 34.625 20.71875 30.859375 \nQ 16.703125 27.09375 16.703125 20.515625 \nQ 16.703125 13.921875 20.71875 10.15625 \nQ 24.75 6.390625 31.78125 6.390625 \nQ 38.8125 6.390625 42.859375 10.171875 \nQ 46.921875 13.96875 46.921875 20.515625 \nQ 46.921875 27.09375 42.890625 30.859375 \nQ 38.875 34.625 31.78125 34.625 \nz\nM 21.921875 38.8125 \nQ 15.578125 40.375 12.03125 44.71875 \nQ 8.5 49.078125 8.5 55.328125 \nQ 8.5 64.0625 14.71875 69.140625 \nQ 20.953125 74.21875 31.78125 74.21875 \nQ 42.671875 74.21875 48.875 69.140625 \nQ 55.078125 64.0625 55.078125 55.328125 \nQ 55.078125 49.078125 51.53125 44.71875 \nQ 48 40.375 41.703125 38.8125 \nQ 48.828125 37.15625 52.796875 32.3125 \nQ 56.78125 27.484375 56.78125 20.515625 \nQ 56.78125 9.90625 50.3125 4.234375 \nQ 43.84375 -1.421875 31.78125 -1.421875 \nQ 19.734375 -1.421875 13.25 4.234375 \nQ 6.78125 9.90625 6.78125 20.515625 \nQ 6.78125 27.484375 10.78125 32.3125 \nQ 14.796875 37.15625 21.921875 38.8125 \nz\nM 18.3125 54.390625 \nQ 18.3125 48.734375 21.84375 45.5625 \nQ 25.390625 42.390625 31.78125 42.390625 \nQ 38.140625 42.390625 41.71875 45.5625 \nQ 45.3125 48.734375 45.3125 54.390625 \nQ 45.3125 60.0625 41.71875 63.234375 \nQ 38.140625 66.40625 31.78125 66.40625 \nQ 25.390625 66.40625 21.84375 63.234375 \nQ 18.3125 60.0625 18.3125 54.390625 \nz\n\" id=\"DejaVuSans-56\"/>\n       </defs>\n       <use xlink:href=\"#DejaVuSans-56\"/>\n       <use x=\"63.623047\" xlink:href=\"#DejaVuSans-48\"/>\n      </g>\n     </g>\n    </g>\n    <g id=\"xtick_6\">\n     <g id=\"line2d_6\">\n      <g>\n       <use style=\"stroke:#000000;stroke-width:0.8;\" x=\"946.252869\" xlink:href=\"#m2e0f361500\" y=\"299.921311\"/>\n      </g>\n     </g>\n     <g id=\"text_6\">\n      <!-- 100 -->\n      <g transform=\"translate(936.709119 314.519749)scale(0.1 -0.1)\">\n       <defs>\n        <path d=\"M 12.40625 8.296875 \nL 28.515625 8.296875 \nL 28.515625 63.921875 \nL 10.984375 60.40625 \nL 10.984375 69.390625 \nL 28.421875 72.90625 \nL 38.28125 72.90625 \nL 38.28125 8.296875 \nL 54.390625 8.296875 \nL 54.390625 0 \nL 12.40625 0 \nz\n\" id=\"DejaVuSans-49\"/>\n       </defs>\n       <use xlink:href=\"#DejaVuSans-49\"/>\n       <use x=\"63.623047\" xlink:href=\"#DejaVuSans-48\"/>\n       <use x=\"127.246094\" xlink:href=\"#DejaVuSans-48\"/>\n      </g>\n     </g>\n    </g>\n    <g id=\"xtick_7\">\n     <g id=\"line2d_7\">\n      <g>\n       <use style=\"stroke:#000000;stroke-width:0.8;\" x=\"1129.203689\" xlink:href=\"#m2e0f361500\" y=\"299.921311\"/>\n      </g>\n     </g>\n     <g id=\"text_7\">\n      <!-- 120 -->\n      <g transform=\"translate(1119.659939 314.519749)scale(0.1 -0.1)\">\n       <use xlink:href=\"#DejaVuSans-49\"/>\n       <use x=\"63.623047\" xlink:href=\"#DejaVuSans-50\"/>\n       <use x=\"127.246094\" xlink:href=\"#DejaVuSans-48\"/>\n      </g>\n     </g>\n    </g>\n   </g>\n   <g id=\"matplotlib.axis_2\">\n    <g id=\"ytick_1\">\n     <g id=\"line2d_8\">\n      <defs>\n       <path d=\"M 0 0 \nL -3.5 0 \n\" id=\"mf5b470ff5d\" style=\"stroke:#000000;stroke-width:0.8;\"/>\n      </defs>\n      <g>\n       <use style=\"stroke:#000000;stroke-width:0.8;\" x=\"26.925\" xlink:href=\"#mf5b470ff5d\" y=\"11.77377\"/>\n      </g>\n     </g>\n     <g id=\"text_8\">\n      <!-- 0 -->\n      <g transform=\"translate(13.5625 15.572989)scale(0.1 -0.1)\">\n       <use xlink:href=\"#DejaVuSans-48\"/>\n      </g>\n     </g>\n    </g>\n    <g id=\"ytick_2\">\n     <g id=\"line2d_9\">\n      <g>\n       <use style=\"stroke:#000000;stroke-width:0.8;\" x=\"26.925\" xlink:href=\"#mf5b470ff5d\" y=\"57.511475\"/>\n      </g>\n     </g>\n     <g id=\"text_9\">\n      <!-- 5 -->\n      <g transform=\"translate(13.5625 61.310694)scale(0.1 -0.1)\">\n       <defs>\n        <path d=\"M 10.796875 72.90625 \nL 49.515625 72.90625 \nL 49.515625 64.59375 \nL 19.828125 64.59375 \nL 19.828125 46.734375 \nQ 21.96875 47.46875 24.109375 47.828125 \nQ 26.265625 48.1875 28.421875 48.1875 \nQ 40.625 48.1875 47.75 41.5 \nQ 54.890625 34.8125 54.890625 23.390625 \nQ 54.890625 11.625 47.5625 5.09375 \nQ 40.234375 -1.421875 26.90625 -1.421875 \nQ 22.3125 -1.421875 17.546875 -0.640625 \nQ 12.796875 0.140625 7.71875 1.703125 \nL 7.71875 11.625 \nQ 12.109375 9.234375 16.796875 8.0625 \nQ 21.484375 6.890625 26.703125 6.890625 \nQ 35.15625 6.890625 40.078125 11.328125 \nQ 45.015625 15.765625 45.015625 23.390625 \nQ 45.015625 31 40.078125 35.4375 \nQ 35.15625 39.890625 26.703125 39.890625 \nQ 22.75 39.890625 18.8125 39.015625 \nQ 14.890625 38.140625 10.796875 36.28125 \nz\n\" id=\"DejaVuSans-53\"/>\n       </defs>\n       <use xlink:href=\"#DejaVuSans-53\"/>\n      </g>\n     </g>\n    </g>\n    <g id=\"ytick_3\">\n     <g id=\"line2d_10\">\n      <g>\n       <use style=\"stroke:#000000;stroke-width:0.8;\" x=\"26.925\" xlink:href=\"#mf5b470ff5d\" y=\"103.24918\"/>\n      </g>\n     </g>\n     <g id=\"text_10\">\n      <!-- 10 -->\n      <g transform=\"translate(7.2 107.048399)scale(0.1 -0.1)\">\n       <use xlink:href=\"#DejaVuSans-49\"/>\n       <use x=\"63.623047\" xlink:href=\"#DejaVuSans-48\"/>\n      </g>\n     </g>\n    </g>\n    <g id=\"ytick_4\">\n     <g id=\"line2d_11\">\n      <g>\n       <use style=\"stroke:#000000;stroke-width:0.8;\" x=\"26.925\" xlink:href=\"#mf5b470ff5d\" y=\"148.986885\"/>\n      </g>\n     </g>\n     <g id=\"text_11\">\n      <!-- 15 -->\n      <g transform=\"translate(7.2 152.786104)scale(0.1 -0.1)\">\n       <use xlink:href=\"#DejaVuSans-49\"/>\n       <use x=\"63.623047\" xlink:href=\"#DejaVuSans-53\"/>\n      </g>\n     </g>\n    </g>\n    <g id=\"ytick_5\">\n     <g id=\"line2d_12\">\n      <g>\n       <use style=\"stroke:#000000;stroke-width:0.8;\" x=\"26.925\" xlink:href=\"#mf5b470ff5d\" y=\"194.72459\"/>\n      </g>\n     </g>\n     <g id=\"text_12\">\n      <!-- 20 -->\n      <g transform=\"translate(7.2 198.523809)scale(0.1 -0.1)\">\n       <use xlink:href=\"#DejaVuSans-50\"/>\n       <use x=\"63.623047\" xlink:href=\"#DejaVuSans-48\"/>\n      </g>\n     </g>\n    </g>\n    <g id=\"ytick_6\">\n     <g id=\"line2d_13\">\n      <g>\n       <use style=\"stroke:#000000;stroke-width:0.8;\" x=\"26.925\" xlink:href=\"#mf5b470ff5d\" y=\"240.462295\"/>\n      </g>\n     </g>\n     <g id=\"text_13\">\n      <!-- 25 -->\n      <g transform=\"translate(7.2 244.261514)scale(0.1 -0.1)\">\n       <use xlink:href=\"#DejaVuSans-50\"/>\n       <use x=\"63.623047\" xlink:href=\"#DejaVuSans-53\"/>\n      </g>\n     </g>\n    </g>\n    <g id=\"ytick_7\">\n     <g id=\"line2d_14\">\n      <g>\n       <use style=\"stroke:#000000;stroke-width:0.8;\" x=\"26.925\" xlink:href=\"#mf5b470ff5d\" y=\"286.2\"/>\n      </g>\n     </g>\n     <g id=\"text_14\">\n      <!-- 30 -->\n      <g transform=\"translate(7.2 289.999219)scale(0.1 -0.1)\">\n       <defs>\n        <path d=\"M 40.578125 39.3125 \nQ 47.65625 37.796875 51.625 33 \nQ 55.609375 28.21875 55.609375 21.1875 \nQ 55.609375 10.40625 48.1875 4.484375 \nQ 40.765625 -1.421875 27.09375 -1.421875 \nQ 22.515625 -1.421875 17.65625 -0.515625 \nQ 12.796875 0.390625 7.625 2.203125 \nL 7.625 11.71875 \nQ 11.71875 9.328125 16.59375 8.109375 \nQ 21.484375 6.890625 26.8125 6.890625 \nQ 36.078125 6.890625 40.9375 10.546875 \nQ 45.796875 14.203125 45.796875 21.1875 \nQ 45.796875 27.640625 41.28125 31.265625 \nQ 36.765625 34.90625 28.71875 34.90625 \nL 20.21875 34.90625 \nL 20.21875 43.015625 \nL 29.109375 43.015625 \nQ 36.375 43.015625 40.234375 45.921875 \nQ 44.09375 48.828125 44.09375 54.296875 \nQ 44.09375 59.90625 40.109375 62.90625 \nQ 36.140625 65.921875 28.71875 65.921875 \nQ 24.65625 65.921875 20.015625 65.03125 \nQ 15.375 64.15625 9.8125 62.3125 \nL 9.8125 71.09375 \nQ 15.4375 72.65625 20.34375 73.4375 \nQ 25.25 74.21875 29.59375 74.21875 \nQ 40.828125 74.21875 47.359375 69.109375 \nQ 53.90625 64.015625 53.90625 55.328125 \nQ 53.90625 49.265625 50.4375 45.09375 \nQ 46.96875 40.921875 40.578125 39.3125 \nz\n\" id=\"DejaVuSans-51\"/>\n       </defs>\n       <use xlink:href=\"#DejaVuSans-51\"/>\n       <use x=\"63.623047\" xlink:href=\"#DejaVuSans-48\"/>\n      </g>\n     </g>\n    </g>\n   </g>\n   <g id=\"patch_3\">\n    <path d=\"M 26.925 299.921311 \nL 26.925 7.2 \n\" style=\"fill:none;stroke:#000000;stroke-linecap:square;stroke-linejoin:miter;stroke-width:0.8;\"/>\n   </g>\n   <g id=\"patch_4\">\n    <path d=\"M 1142.925 299.921311 \nL 1142.925 7.2 \n\" style=\"fill:none;stroke:#000000;stroke-linecap:square;stroke-linejoin:miter;stroke-width:0.8;\"/>\n   </g>\n   <g id=\"patch_5\">\n    <path d=\"M 26.925 299.921311 \nL 1142.925 299.921311 \n\" style=\"fill:none;stroke:#000000;stroke-linecap:square;stroke-linejoin:miter;stroke-width:0.8;\"/>\n   </g>\n   <g id=\"patch_6\">\n    <path d=\"M 26.925 7.2 \nL 1142.925 7.2 \n\" style=\"fill:none;stroke:#000000;stroke-linecap:square;stroke-linejoin:miter;stroke-width:0.8;\"/>\n   </g>\n  </g>\n </g>\n <defs>\n  <clipPath id=\"pfc3259ca41\">\n   <rect height=\"292.721311\" width=\"1116\" x=\"26.925\" y=\"7.2\"/>\n  </clipPath>\n </defs>\n</svg>\n",
      "image/png": "[encoded data removed]"
     },
     "metadata": {
      "needs_background": "light"
     }
    },
    {
     "output_type": "stream",
     "name": "stdout",
     "text": "tensor(5) tensor(2) tensor(1) tensor(2)\n"
    }
   ],
   "source": [
    "import matplotlib.pyplot as plt\n",
    "import matplotlib.ticker as plticker\n",
    "\n",
    "%matplotlib inline\n",
    "plt.rcParams['figure.figsize'] = (20.0, 15.0) # set default size of plots\n",
    "plt.rcParams['image.interpolation'] = 'nearest'\n",
    "plt.rcParams['image.cmap'] = 'gray'\n",
    "\n",
    "\n",
    "def imshow(img):\n",
    "    img = img / 2 + 0.5     # unnormalize\n",
    "    npimg = img.numpy()\n",
    "    plt.imshow(np.transpose(npimg, (1, 2, 0)))\n",
    "    plt.show()\n",
    "\n",
    "tmploader = torch.utils.data.DataLoader(dataset = mini_train_set, shuffle = True, batch_size = 4, num_workers = 2)\n",
    "dataiter = iter(tmploader)\n",
    "images, labels = dataiter.next()\n",
    "\n",
    "print(torch.max(images))\n",
    "print(torch.min(images))\n",
    "\n",
    "# show images\n",
    "imshow(torchvision.utils.make_grid(images))\n",
    "# print labels\n",
    "print(' '.join('%5s' % labels[j] for j in range(images.size(0))))"
   ]
  },
  {
   "cell_type": "code",
   "execution_count": 5,
   "metadata": {},
   "outputs": [
    {
     "output_type": "error",
     "ename": "ModuleNotFoundError",
     "evalue": "No module named 'src'",
     "traceback": [
      "\u001b[0;31m---------------------------------------------------------------------------\u001b[0m",
      "\u001b[0;31mModuleNotFoundError\u001b[0m                       Traceback (most recent call last)",
      "\u001b[0;32m<ipython-input-5-c7d05651ff89>\u001b[0m in \u001b[0;36m<module>\u001b[0;34m\u001b[0m\n\u001b[1;32m      2\u001b[0m \u001b[0mget_ipython\u001b[0m\u001b[0;34m(\u001b[0m\u001b[0;34m)\u001b[0m\u001b[0;34m.\u001b[0m\u001b[0mrun_line_magic\u001b[0m\u001b[0;34m(\u001b[0m\u001b[0;34m'autoreload'\u001b[0m\u001b[0;34m,\u001b[0m \u001b[0;34m'2'\u001b[0m\u001b[0;34m)\u001b[0m\u001b[0;34m\u001b[0m\u001b[0;34m\u001b[0m\u001b[0m\n\u001b[1;32m      3\u001b[0m \u001b[0;34m\u001b[0m\u001b[0m\n\u001b[0;32m----> 4\u001b[0;31m \u001b[0;32mfrom\u001b[0m \u001b[0msrc\u001b[0m\u001b[0;34m.\u001b[0m\u001b[0msolver\u001b[0m \u001b[0;32mimport\u001b[0m \u001b[0mSolver\u001b[0m\u001b[0;34m\u001b[0m\u001b[0;34m\u001b[0m\u001b[0m\n\u001b[0m\u001b[1;32m      5\u001b[0m \u001b[0;32mimport\u001b[0m \u001b[0mtorch\u001b[0m\u001b[0;34m.\u001b[0m\u001b[0moptim\u001b[0m \u001b[0;32mas\u001b[0m \u001b[0moptim\u001b[0m\u001b[0;34m\u001b[0m\u001b[0;34m\u001b[0m\u001b[0m\n\u001b[1;32m      6\u001b[0m \u001b[0;34m\u001b[0m\u001b[0m\n",
      "\u001b[0;31mModuleNotFoundError\u001b[0m: No module named 'src'"
     ]
    }
   ],
   "source": [
    "%load_ext autoreload\n",
    "%autoreload 2\n",
    "\n",
    "from src.solver import Solver\n",
    "import torch.optim as optim\n",
    "\n",
    "learning_rate = 0.01\n",
    "\n",
    "net = LeNet1()\n",
    "optimizer = optim.SGD(net.parameters(), lr=learning_rate)\n",
    "\n",
    "options = {\n",
    "    \"train_data_loader\": {\n",
    "        \"shuffle\": True,\n",
    "        \"batch_size\": 16,\n",
    "        \"num_workers\": 4\n",
    "    },\n",
    "    \"val_data_loader\": {\n",
    "        \"shuffle\": True,\n",
    "        \"batch_size\": 16,\n",
    "        \"num_workers\": 4\n",
    "    },\n",
    "    \"back_up_model_every\": 100,\n",
    "    \"epochs\": 250\n",
    "}\n",
    "\n",
    "solver = Solver(net, mini_train_set, mini_val_set, **options)\n",
    "solver.train(optimizer)"
   ]
  },
  {
   "cell_type": "code",
   "execution_count": null,
   "metadata": {},
   "outputs": [],
   "source": [
    "def box_smooth(data, length):\n",
    "    box = np.ones(length)/length\n",
    "    smooth_data = np.convolve(data, box, mode=\"same\")\n",
    "    return smooth_data\n",
    "\n",
    "train_val_loss_ratio = torch.div(torch.tensor(solver.train_loss_history), torch.tensor(solver.val_loss_history))\n",
    "\n",
    "sma_len = 3\n",
    "\n",
    "plt.plot(box_smooth(solver.train_loss_history, sma_len), '-o')\n",
    "plt.plot(box_smooth(solver.val_loss_history, sma_len), '-o')\n",
    "plt.plot(box_smooth(train_val_loss_ratio, 10))\n",
    "plt.legend(['train', 'val', 'train/val loss ratio'], loc='upper left')\n",
    "plt.xlabel('epoch')\n",
    "plt.ylabel('loss')\n",
    "plt.show()"
   ]
  },
  {
   "cell_type": "code",
   "execution_count": null,
   "metadata": {},
   "outputs": [],
   "source": [
    "%load_ext autoreload\n",
    "%autoreload 2\n",
    "\n",
    "from src.solver import Solver\n",
    "import torch.optim as optim\n",
    "\n",
    "learning_rate = 0.01\n",
    "\n",
    "net = LeNet1()\n",
    "optimizer = optim.SGD(net.parameters(), lr=learning_rate)\n",
    "\n",
    "options = {\n",
    "    \"train_data_loader\": {\n",
    "        \"shuffle\": True,\n",
    "        \"batch_size\": 64,\n",
    "        \"num_workers\": 3\n",
    "    },\n",
    "    \"val_data_loader\": {\n",
    "        \"shuffle\": True,\n",
    "        \"batch_size\": 64,\n",
    "        \"num_workers\": 3\n",
    "    },\n",
    "    \"back_up_model_every\": 50,\n",
    "    \"epochs\": 300\n",
    "}\n",
    "\n",
    "solver = Solver(net, train_set, val_set, **options)\n",
    "solver.train(optimizer)\n"
   ]
  },
  {
   "cell_type": "code",
   "execution_count": null,
   "metadata": {},
   "outputs": [],
   "source": [
    "chkpt = torch.load(\"./backups/0.01_last_300.pth\")\n",
    "\n",
    "options2 = {\n",
    "    \"train_data_loader\": {\n",
    "        \"shuffle\": True,\n",
    "        \"batch_size\": 64,\n",
    "        \"num_workers\": 3\n",
    "    },\n",
    "    \"val_data_loader\": {\n",
    "        \"shuffle\": True,\n",
    "        \"batch_size\": 64,\n",
    "        \"num_workers\": 3\n",
    "    },\n",
    "    \"back_up_model_every\": 50,\n",
    "    \"epochs\": 100\n",
    "}\n",
    "\n",
    "net2 = LeNet1()\n",
    "net2.load_state_dict(chkpt[\"model_state\"])\n",
    "optimizer2 = optim.SGD(net2.parameters(), lr=learning_rate)\n",
    "optimizer2.load_state_dict(chkpt[\"optimizer_state\"])\n",
    "\n",
    "solver2 = Solver(net2, train_set, val_set, **options2)\n",
    "solver2.train_loss_history = chkpt[\"train_loss\"]\n",
    "solver2.val_loss_history = chkpt[\"val_loss\"]\n",
    "\n",
    "solver2.train(optimizer, start_i=300)"
   ]
  },
  {
   "cell_type": "code",
   "execution_count": null,
   "metadata": {},
   "outputs": [],
   "source": [
    "plt.plot(solver2.train_loss_history[-100:], '-o')\n",
    "plt.plot(solver2.val_loss_history[-100:], '-o')\n",
    "plt.legend(['train', 'val'], loc='upper left')\n",
    "plt.xlabel('epoch')\n",
    "plt.ylabel('loss')\n",
    "plt.show()\n",
    "\n"
   ]
  },
  {
   "cell_type": "code",
   "execution_count": null,
   "metadata": {},
   "outputs": [],
   "source": [
    "chkpt = torch.load(\"./backups/0.01_300_300.pth\")\n",
    "\n",
    "options3 = {\n",
    "    \"train_data_loader\": {\n",
    "        \"shuffle\": True,\n",
    "        \"batch_size\": 64,\n",
    "        \"num_workers\": 3\n",
    "    },\n",
    "    \"val_data_loader\": {\n",
    "        \"shuffle\": True,\n",
    "        \"batch_size\": 64,\n",
    "        \"num_workers\": 3\n",
    "    },\n",
    "    \"back_up_model_every\": 0,\n",
    "    \"epochs\": 100\n",
    "}\n",
    "\n",
    "net3 = LeNet1()\n",
    "net3.load_state_dict(chkpt[\"model_state\"])\n",
    "optimizer3 = optim.SGD(net3.parameters(), lr=.0001)\n",
    "optimizer3.load_state_dict(chkpt[\"optimizer_state\"])\n",
    "\n",
    "solver3 = Solver(net3, train_set, val_set, **options3)\n",
    "solver3.train_loss_history = chkpt[\"train_loss\"]\n",
    "solver3.val_loss_history = chkpt[\"val_loss\"]"
   ]
  },
  {
   "cell_type": "code",
   "execution_count": null,
   "metadata": {},
   "outputs": [],
   "source": [
    "plt.plot(solver3.train_loss_history[100:], '-o')\n",
    "plt.plot(solver3.val_loss_history[100:], '-o')\n",
    "plt.legend(['train', 'val'], loc='upper left')\n",
    "plt.xlabel('epoch (add 100. Starts with epoch=100, not epoch=0)')\n",
    "plt.ylabel('loss')\n",
    "plt.show()"
   ]
  },
  {
   "cell_type": "code",
   "execution_count": null,
   "metadata": {},
   "outputs": [],
   "source": [
    "chkpt = torch.load(\"./backups/0.01_300_300.pth\")\n",
    "\n",
    "loader_opts = {\n",
    "    \"batch_size\": 64,\n",
    "    \"num_workers\": 6\n",
    "}\n",
    "final_loader = torch.utils.data.DataLoader(dataset = test_set, **loader_opts)\n",
    "\n",
    "final_model = LeNet1()\n",
    "final_model.load_state_dict(chkpt[\"model_state\"])\n",
    "final_model.eval()\n",
    "\n",
    "train_acc = -1\n",
    "with torch.no_grad():\n",
    "    correct = 0\n",
    "    total = 0\n",
    "\n",
    "    for (inputs, labels) in final_loader:\n",
    "        out = final_model(inputs)\n",
    "        predicted = torch.argmax(out.data, 1)\n",
    "        correct += (predicted == labels).sum().item()\n",
    "        total += labels.size(0)\n",
    "\n",
    "final_acc = correct / total\n",
    "\n",
    "print(\"Trained model prediction accuracy: {}%\".format(final_acc * 100))\n"
   ]
  },
  {
   "cell_type": "code",
   "execution_count": null,
   "metadata": {},
   "outputs": [],
   "source": [
    "misclassified_count = np.zeros(10, dtype=np.uint)\n",
    "misclassified_imgs = [[] for i in np.arange(10)]\n",
    "wrong_predicted_labels = [[] for i in np.arange(10)]\n",
    "\n",
    "with torch.no_grad():\n",
    "    for (inputs, labels) in final_loader:\n",
    "        out = final_model(inputs)\n",
    "        predicted = torch.argmax(out.data, 1)\n",
    "        misclassified_indexes = predicted != labels\n",
    "        \n",
    "        miss_imgs = inputs[misclassified_indexes]\n",
    "        correct_labels = labels[misclassified_indexes]\n",
    "        wrong_pred_labels = predicted[misclassified_indexes]\n",
    "        \n",
    "        for (img, label, wrong_label) in zip(miss_imgs, correct_labels, wrong_pred_labels):\n",
    "            misclassified_count[label.item()] += 1\n",
    "            misclassified_imgs[label.item()].append(img.numpy())\n",
    "            wrong_predicted_labels[label.item()].append(wrong_label.item())\n",
    "\n",
    "\n",
    "# show images\n",
    "subset_wrong_labels = np.array([wrong_predicted_labels[i][0:4] for i in np.arange(10)])\n",
    "subset_imgs = torch.from_numpy(np.array([misclassified_imgs[i][0:4] for i in np.arange(10)]))\n",
    "subset_imgs = subset_imgs.view((-1, 1, 28, 28))\n",
    "imshow(torchvision.utils.make_grid(subset_imgs, nrow=4))\n",
    "print(subset_wrong_labels)"
   ]
  }
 ]
}